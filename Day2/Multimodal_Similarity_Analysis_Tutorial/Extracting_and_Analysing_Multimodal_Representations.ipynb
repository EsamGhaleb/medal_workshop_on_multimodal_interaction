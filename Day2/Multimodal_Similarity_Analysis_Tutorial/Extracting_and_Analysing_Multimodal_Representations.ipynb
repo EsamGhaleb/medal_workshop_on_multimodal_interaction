{
 "cells": [
  {
   "cell_type": "markdown",
   "id": "39e9d7bf",
   "metadata": {},
   "source": [
    "# Extracting Semantic and Gesture Representations\n",
    "\n",
    "This notebook walks you through:\n",
    "\n",
    "1. **Extracting sentence‑level semantic embeddings** (Dutch BERT).  \n",
    "2. **Extracting gesture embeddings** with a self‑supervised skeleton‑semantic model.  \n",
    "3. **Analysing gesture‑gesture similarity**: this will be based on the similarity analysis provided in the paper by Ghaleb et al. (2024)‑ICMI: **Learning Co-Speech Gesture Representations in Dialogue through Contrastive Learning: An Intrinsic Evaluation**. It uses cosine similarity between learned embeddings to evaluate the similarity of gestures based on their semantic content and form features. It follows the intrinsic‑evaluation recipe described in the paper, where cosine similarity between learned embeddings correlated positively with the number of shared form features (ρ≈0.31).\n"
   ]
  },
  {
   "cell_type": "markdown",
   "id": "0d272e76",
   "metadata": {},
   "source": [
    "## Table of Contents  \n",
    "- [0 Setup](#0)  \n",
    "- [1 Data & Preliminaries](#1)  \n",
    "- [2 Sentence Embeddings](#2)  \n",
    "- [3 Gesture Embeddings](#3)  \n",
    "- [4 Gesture‑Only Similarity](#4)  \n",
    "- [5 Dialogue‑Level Analyses](#5)  \n",
    "- [6 Conclusion](#6)  \n"
   ]
  },
  {
   "cell_type": "markdown",
   "id": "cdfa5be4",
   "metadata": {},
   "source": [
    "## 0 <a name='0'></a>Setup\n",
    "Import common libraries."
   ]
  },
  {
   "cell_type": "code",
   "execution_count": 1,
   "id": "7fbbd24b",
   "metadata": {},
   "outputs": [
    {
     "name": "stdout",
     "output_type": "stream",
     "text": [
      "Device: cpu\n"
     ]
    }
   ],
   "source": [
    "import os, numpy as np, pandas as pd, torch\n",
    "from tqdm import tqdm\n",
    "from transformers import AutoTokenizer, AutoModel\n",
    "from model.skeleton_speech_models import GSSModel\n",
    "from data.read_process_poses import load_keypoints_dict\n",
    "from dialog_utils.prepare_gesture_referents_dataset import get_detailed_gestures\n",
    "from object_retrieval_pair import manual_implementation_object_retrieval\n",
    "\n",
    "import itertools\n",
    "import pandas as pd\n",
    "from sklearn.metrics.pairwise import cosine_similarity\n",
    "from scipy.stats import mannwhitneyu\n",
    "import matplotlib.pyplot as plt\n",
    "import seaborn as sns\n",
    "from statannotations.Annotator import Annotator\n",
    "\n",
    "pd.set_option('display.precision', 2)\n",
    "DEVICE = torch.device('cuda' if torch.cuda.is_available() else 'cpu')\n",
    "print('Device:', DEVICE)"
   ]
  },
  {
   "cell_type": "code",
   "execution_count": 2,
   "id": "e916c653",
   "metadata": {},
   "outputs": [],
   "source": [
    "# set the colors and seaborn style\n",
    "import matplotlib.pyplot as plt\n",
    "import seaborn as sns\n",
    "sns.set(style='whitegrid', palette='Paired', font_scale=1.2)"
   ]
  },
  {
   "cell_type": "markdown",
   "id": "2717e864",
   "metadata": {},
   "source": [
    "## 1 <a name='1'></a>Data & Preliminaries\n",
    "We first define helper functions to obtain mean‑pooled sentence vectors from Dutch BERT."
   ]
  },
  {
   "cell_type": "code",
   "execution_count": 3,
   "id": "05ddc70f",
   "metadata": {},
   "outputs": [],
   "source": [
    "def mean_pooling(out, mask):\n",
    "    tok_emb = out[0]\n",
    "    mask_exp = mask.unsqueeze(-1).expand(tok_emb.size()).float()\n",
    "    summed = (tok_emb * mask_exp).sum(1)\n",
    "    denom = mask_exp.sum(1).clamp(min=1e-9)\n",
    "    return summed / denom\n",
    "\n",
    "def get_sentence_emb(sentences, model, tok):\n",
    "    enc = tok(sentences, padding=True, truncation=True, return_tensors='pt').to(DEVICE)\n",
    "    with torch.no_grad():\n",
    "        out = model(**enc)\n",
    "    return mean_pooling(out, enc['attention_mask'])\n",
    "\n",
    "def load_text_model():\n",
    "    tok = AutoTokenizer.from_pretrained('GroNLP/bert-base-dutch-cased')\n",
    "    mdl = AutoModel.from_pretrained('GroNLP/bert-base-dutch-cased',\n",
    "                                    output_hidden_states=True).to(DEVICE)\n",
    "    mdl.eval()\n",
    "    return mdl, tok\n"
   ]
  },
  {
   "cell_type": "markdown",
   "id": "1b188ba3",
   "metadata": {},
   "source": [
    "### Load the gesture data and the poses. \n",
    "\n",
    "The data contains metadata about the gestures, including the speaker, referent, and co-occurring transcriped speech. "
   ]
  },
  {
   "cell_type": "code",
   "execution_count": 4,
   "id": "52b430f4",
   "metadata": {},
   "outputs": [
    {
     "name": "stdout",
     "output_type": "stream",
     "text": [
      "Iconic gestures loaded: 4637\n"
     ]
    }
   ],
   "source": [
    "proc_kpts, mir_kpts = load_keypoints_dict()\n",
    "gestures_information_df = get_detailed_gestures()\n",
    "# keep iconic strokes only\n",
    "gestures_information_df = gestures_information_df[gestures_information_df['type'] == 'iconic'].reset_index(drop=True)\n",
    "# referent cleaning (see paper §3.2)\n",
    "to_remove = ['-REP', '-rep', '-WF', '-wf', 'ref', 'REF']\n",
    "gestures_information_df['referent_clean'] = gestures_information_df['referent'].apply(\n",
    "    lambda x: x if not x.endswith(tuple(to_remove)) else x.split('-')[0])\n",
    "gestures_information_df = gestures_information_df.assign(\n",
    "    referent_clean=gestures_information_df['referent_clean'].str.split('+')).explode('referent_clean')\n",
    "gestures_information_df['referent_clean'] = gestures_information_df['referent_clean'].str.strip().str.replace('-', '0').str.replace(\"'\", '')\n",
    "gestures_information_df = gestures_information_df[gestures_information_df['referent_clean'] != 'undecided']\n",
    "gestures_information_df['processed_referent_target_fribble'] = gestures_information_df['referent_clean']\n",
    "print('Iconic gestures loaded:', len(gestures_information_df))\n"
   ]
  },
  {
   "cell_type": "markdown",
   "id": "e623d4ca",
   "metadata": {},
   "source": [
    "### 1.2 Let's inspect few rows of the annotated gesture DataFrame. "
   ]
  },
  {
   "cell_type": "code",
   "execution_count": 5,
   "id": "2269bf9c",
   "metadata": {},
   "outputs": [
    {
     "data": {
      "text/html": [
       "<div>\n",
       "<style scoped>\n",
       "    .dataframe tbody tr th:only-of-type {\n",
       "        vertical-align: middle;\n",
       "    }\n",
       "\n",
       "    .dataframe tbody tr th {\n",
       "        vertical-align: top;\n",
       "    }\n",
       "\n",
       "    .dataframe thead th {\n",
       "        text-align: right;\n",
       "    }\n",
       "</style>\n",
       "<table border=\"1\" class=\"dataframe\">\n",
       "  <thead>\n",
       "    <tr style=\"text-align: right;\">\n",
       "      <th></th>\n",
       "      <th>pair</th>\n",
       "      <th>turn</th>\n",
       "      <th>round</th>\n",
       "      <th>type</th>\n",
       "      <th>is_gesture</th>\n",
       "      <th>from_ts</th>\n",
       "      <th>to_ts</th>\n",
       "      <th>referent</th>\n",
       "      <th>comment</th>\n",
       "      <th>duration</th>\n",
       "      <th>...</th>\n",
       "      <th>pair_speaker</th>\n",
       "      <th>words</th>\n",
       "      <th>lemmas</th>\n",
       "      <th>pos</th>\n",
       "      <th>lemmas_pos</th>\n",
       "      <th>transcriptions</th>\n",
       "      <th>contain_text</th>\n",
       "      <th>segmentation method</th>\n",
       "      <th>referent_clean</th>\n",
       "      <th>processed_referent_target_fribble</th>\n",
       "    </tr>\n",
       "  </thead>\n",
       "  <tbody>\n",
       "    <tr>\n",
       "      <th>0</th>\n",
       "      <td>pair04</td>\n",
       "      <td>0</td>\n",
       "      <td>1</td>\n",
       "      <td>iconic</td>\n",
       "      <td>gesture</td>\n",
       "      <td>4.09</td>\n",
       "      <td>4.50</td>\n",
       "      <td>main</td>\n",
       "      <td>NaN</td>\n",
       "      <td>0.41</td>\n",
       "      <td>...</td>\n",
       "      <td>pair04_B</td>\n",
       "      <td>zeggen dat hoofdplatform</td>\n",
       "      <td>zeggen dat hoofdplatform</td>\n",
       "      <td>VERB SCONJ NOUN</td>\n",
       "      <td>zeggen#VERB dat#SCONJ hoofdplatform#NOUN</td>\n",
       "      <td>manual</td>\n",
       "      <td>True</td>\n",
       "      <td>manual</td>\n",
       "      <td>main</td>\n",
       "      <td>main</td>\n",
       "    </tr>\n",
       "    <tr>\n",
       "      <th>1</th>\n",
       "      <td>pair04</td>\n",
       "      <td>2</td>\n",
       "      <td>1</td>\n",
       "      <td>iconic</td>\n",
       "      <td>gesture</td>\n",
       "      <td>8.46</td>\n",
       "      <td>8.94</td>\n",
       "      <td>09C</td>\n",
       "      <td>NaN</td>\n",
       "      <td>0.48</td>\n",
       "      <td>...</td>\n",
       "      <td>pair04_B</td>\n",
       "      <td>steeksel aan de linkerkant</td>\n",
       "      <td>steeksel aan de linkerkant</td>\n",
       "      <td>NOUN ADP DET NOUN</td>\n",
       "      <td>steeksel#NOUN aan#ADP de#DET linkerkant#NOUN</td>\n",
       "      <td>manual</td>\n",
       "      <td>True</td>\n",
       "      <td>manual</td>\n",
       "      <td>09C</td>\n",
       "      <td>09C</td>\n",
       "    </tr>\n",
       "    <tr>\n",
       "      <th>2</th>\n",
       "      <td>pair04</td>\n",
       "      <td>4</td>\n",
       "      <td>1</td>\n",
       "      <td>iconic</td>\n",
       "      <td>gesture</td>\n",
       "      <td>11.78</td>\n",
       "      <td>12.20</td>\n",
       "      <td>09C</td>\n",
       "      <td>NaN</td>\n",
       "      <td>0.42</td>\n",
       "      <td>...</td>\n",
       "      <td>pair04_B</td>\n",
       "      <td>is een rond uitsteeksel</td>\n",
       "      <td>zijn een rond uitsteeksel</td>\n",
       "      <td>AUX DET ADP NOUN</td>\n",
       "      <td>zijn#AUX een#DET rond#ADP uitsteeksel#NOUN</td>\n",
       "      <td>manual</td>\n",
       "      <td>True</td>\n",
       "      <td>manual</td>\n",
       "      <td>09C</td>\n",
       "      <td>09C</td>\n",
       "    </tr>\n",
       "  </tbody>\n",
       "</table>\n",
       "<p>3 rows × 35 columns</p>\n",
       "</div>"
      ],
      "text/plain": [
       "     pair  turn  round    type is_gesture  from_ts  to_ts referent comment  \\\n",
       "0  pair04     0      1  iconic    gesture     4.09   4.50     main     NaN   \n",
       "1  pair04     2      1  iconic    gesture     8.46   8.94      09C     NaN   \n",
       "2  pair04     4      1  iconic    gesture    11.78  12.20      09C     NaN   \n",
       "\n",
       "   duration  ...  pair_speaker                       words  \\\n",
       "0      0.41  ...      pair04_B    zeggen dat hoofdplatform   \n",
       "1      0.48  ...      pair04_B  steeksel aan de linkerkant   \n",
       "2      0.42  ...      pair04_B     is een rond uitsteeksel   \n",
       "\n",
       "                       lemmas                pos  \\\n",
       "0    zeggen dat hoofdplatform    VERB SCONJ NOUN   \n",
       "1  steeksel aan de linkerkant  NOUN ADP DET NOUN   \n",
       "2   zijn een rond uitsteeksel   AUX DET ADP NOUN   \n",
       "\n",
       "                                     lemmas_pos transcriptions contain_text  \\\n",
       "0      zeggen#VERB dat#SCONJ hoofdplatform#NOUN         manual         True   \n",
       "1  steeksel#NOUN aan#ADP de#DET linkerkant#NOUN         manual         True   \n",
       "2    zijn#AUX een#DET rond#ADP uitsteeksel#NOUN         manual         True   \n",
       "\n",
       "   segmentation method referent_clean processed_referent_target_fribble  \n",
       "0               manual           main                              main  \n",
       "1               manual            09C                               09C  \n",
       "2               manual            09C                               09C  \n",
       "\n",
       "[3 rows x 35 columns]"
      ]
     },
     "execution_count": 5,
     "metadata": {},
     "output_type": "execute_result"
    }
   ],
   "source": [
    "gestures_information_df.head(3)  # Display the first 3 rows of the DataFrame"
   ]
  },
  {
   "cell_type": "markdown",
   "id": "10525ebf",
   "metadata": {},
   "source": [
    "## 2 <a name='2'></a>Sentence Embeddings  \n",
    "\n",
    "Let's first start with loading the Dutch BERT model and defining a function to obtain mean‑pooled sentence vectors.\n",
    "\n",
    "Then, we demonstrate how to encode two Dutch sentences using the model.\n"
   ]
  },
  {
   "cell_type": "code",
   "execution_count": 6,
   "id": "515f8199",
   "metadata": {},
   "outputs": [
    {
     "name": "stderr",
     "output_type": "stream",
     "text": [
      "Some weights of BertModel were not initialized from the model checkpoint at GroNLP/bert-base-dutch-cased and are newly initialized: ['pooler.dense.bias', 'pooler.dense.weight']\n",
      "You should probably TRAIN this model on a down-stream task to be able to use it for predictions and inference.\n"
     ]
    },
    {
     "name": "stdout",
     "output_type": "stream",
     "text": [
      "(2, 768)\n"
     ]
    }
   ],
   "source": [
    "text_model, tokenizer = load_text_model()\n",
    "TEST = ['Een korte zin.', 'Nog een voorbeeld.']\n",
    "embs = get_sentence_emb(TEST, text_model, tokenizer).cpu().numpy()\n",
    "print(embs.shape)  # (2, 768)"
   ]
  },
  {
   "cell_type": "code",
   "execution_count": 7,
   "id": "1d2d397a",
   "metadata": {},
   "outputs": [
    {
     "name": "stderr",
     "output_type": "stream",
     "text": [
      "huggingface/tokenizers: The current process just got forked, after parallelism has already been used. Disabling parallelism to avoid deadlocks...\n",
      "To disable this warning, you can either:\n",
      "\t- Avoid using `tokenizers` before the fork if possible\n",
      "\t- Explicitly set the environment variable TOKENIZERS_PARALLELISM=(true | false)\n",
      "100%|██████████| 4637/4637 [02:17<00:00, 33.69it/s]\n"
     ]
    }
   ],
   "source": [
    "# remove any existing column\n",
    "if 'semantic_embeddings' in gestures_information_df:\n",
    "    gestures_information_df.drop(columns='semantic_embeddings', inplace=True)\n",
    "# compute embeddings with a list and assign once\n",
    "embeddings = []\n",
    "for utt in tqdm(gestures_information_df['processed_utterance'], total=len(gestures_information_df)):\n",
    "    text = \"\" if pd.isna(utt) else utt.strip()\n",
    "    emb = get_sentence_emb([text], text_model, tokenizer).squeeze(0).cpu().numpy()\n",
    "    embeddings.append(emb)\n",
    "\n",
    "gestures_information_df['semantic_embeddings'] = embeddings\n"
   ]
  },
  {
   "cell_type": "markdown",
   "id": "e67d096b",
   "metadata": {},
   "source": [
    "## 3 <a name='3'></a> Gesture Embeddings\n",
    "\n",
    "\n"
   ]
  },
  {
   "cell_type": "markdown",
   "id": "94da7f87",
   "metadata": {},
   "source": [
    "We use the `Multimodal-X` encoders from another paper, **I see what you mean: Co-Speech Gestures for Reference Resolution in Multimodal Dialogue** (Ghaleb et al., 2025), to extract gesture embeddings. The models are trained on skeleton and semantic features, and we use it to obtain gesture embeddings."
   ]
  },
  {
   "cell_type": "code",
   "execution_count": 8,
   "id": "3fc83055",
   "metadata": {},
   "outputs": [],
   "source": [
    "def load_pretrained(params):\n",
    "    path = params['model_weights']\n",
    "    params = params.copy(); _ = params.pop('model_weights')\n",
    "    mdl = GSSModel(**params)\n",
    "    w = torch.load(path, map_location='cpu')\n",
    "    for k in mdl.state_dict():\n",
    "        mdl.state_dict()[k].copy_(w['state_dict']['model.'+k])\n",
    "    return mdl.to(DEVICE).eval()\n",
    "\n",
    "MODELS = {\n",
    "    'multimodal-x': {\n",
    "        'modalities':['skeleton','semantic'],\n",
    "        'hidden_dim':256,'cross_modal':True,'attentive_pooling':False,\n",
    "        'model_weights':'pretrained_models/multimodal-x_skeleton_text_correlation=0.30.ckpt'}\n",
    "}\n",
    "model_key = 'multimodal-x'\n",
    "mdl = load_pretrained(MODELS[model_key])\n"
   ]
  },
  {
   "cell_type": "markdown",
   "id": "2f40f495",
   "metadata": {},
   "source": [
    "### Extract embeddings for the full dataset"
   ]
  },
  {
   "cell_type": "code",
   "execution_count": 9,
   "id": "25693bae",
   "metadata": {},
   "outputs": [
    {
     "name": "stderr",
     "output_type": "stream",
     "text": [
      "  0%|          | 0/4637 [00:00<?, ?it/s]/opt/anaconda3/envs/test2/lib/python3.10/site-packages/transformers/tokenization_utils_base.py:2714: UserWarning: `max_length` is ignored when `padding`=`True` and there is no truncation strategy. To pad to max length, use `padding='max_length'`.\n",
      "  warnings.warn(\n",
      "100%|██████████| 4637/4637 [07:12<00:00, 10.72it/s]"
     ]
    },
    {
     "name": "stdout",
     "output_type": "stream",
     "text": [
      "Embedding vector length: 256\n"
     ]
    },
    {
     "name": "stderr",
     "output_type": "stream",
     "text": [
      "\n"
     ]
    }
   ],
   "source": [
    "gestures_information_df = manual_implementation_object_retrieval(\n",
    "        mdl, proc_kpts, mir_kpts, 'jointsformer',\n",
    "        gestures_and_speech_info=gestures_information_df,\n",
    "        modalities=MODELS[model_key]['modalities'],\n",
    "        audio_dict={}, model_type=model_key)\n",
    "gestures_information_df.rename(columns={'transformer_features': model_key}, inplace=True)\n",
    "print('Embedding vector length:', len(gestures_information_df[model_key].iloc[0]))"
   ]
  },
  {
   "cell_type": "markdown",
   "id": "2637a986",
   "metadata": {},
   "source": [
    "## 6  Intrinsic Gesture‑Similarity Evaluation <a name=\"Similarity\"></a>\n",
    "\n",
    "Following Section 5 of the paper, we compare cosine similarity\n",
    "scores across logically defined *pair types*:\n",
    "\n",
    "| Pair Type | Same Speaker | Same Referent | Same Dialogue |\n",
    "|-----------|--------------|---------------|---------------|\n",
    "| **same-ref & same-speaker** | ✅ | ✅ | ✅ |\n",
    "| **same-ref & diff-speaker** | ❌ | ✅ | ✅ |\n",
    "| **diff-ref & same-speaker** | ✅ | ❌ | ✅ |\n",
    "| **diff-ref & diff-speaker** | ❌ | ❌ | ✅ |\n",
    "| **Cross‑Dialogue & same-ref** | ❌ | ✅ | ❌ |\n",
    "| **Cross‑Dialogue & diff-ref** | ❌ | ❌ | ❌ |\n"
   ]
  },
  {
   "cell_type": "code",
   "execution_count": 10,
   "id": "f40312ed",
   "metadata": {},
   "outputs": [],
   "source": [
    "def compute_similarity_for_pairs(pairs, similarities):\n",
    "    return [similarities[i, j] for i, j in pairs]\n",
    "\n",
    "def compare_similarity_for_diff_pairs(features, gestures_information_df, embeddings_type='gesture'):\n",
    "    pairs = gestures_information_df['pair'].to_numpy()\n",
    "    speakers = gestures_information_df['speaker'].to_numpy()\n",
    "    referents = gestures_information_df['processed_referent_target_fribble'].to_numpy()\n",
    "    pair_speakers = gestures_information_df['pair_speaker'].to_numpy()\n",
    "\n",
    "    indices = range(len(gestures_information_df))\n",
    "\n",
    "    # Define pair types\n",
    "    same_pair_referent_speaker = []\n",
    "    same_referent_same_pair_different_speaker = []\n",
    "    same_referent_different_pair = []\n",
    "    same_pair_different_referent = []\n",
    "    different_pair_different_referent = []\n",
    "    same_pair_same_speaker_different_referent = []\n",
    "\n",
    "    for index_i, index_j in itertools.combinations(indices, 2):\n",
    "        if index_i == index_j:\n",
    "            continue\n",
    "        if pairs[index_i] == pairs[index_j] and speakers[index_i] == speakers[index_j] and referents[index_i] == referents[index_j]:\n",
    "            same_pair_referent_speaker.append((index_i, index_j))\n",
    "        if pairs[index_i] == pairs[index_j] and speakers[index_i] != speakers[index_j] and referents[index_i] == referents[index_j]:\n",
    "            same_referent_same_pair_different_speaker.append((index_i, index_j))\n",
    "        if pairs[index_i] != pairs[index_j] and referents[index_i] == referents[index_j]:\n",
    "            same_referent_different_pair.append((index_i, index_j))\n",
    "        if pairs[index_i] == pairs[index_j] and referents[index_i] != referents[index_j] and pair_speakers[index_i] != pair_speakers[index_j]:\n",
    "            same_pair_different_referent.append((index_i, index_j))\n",
    "        if pairs[index_i] != pairs[index_j] and referents[index_i] != referents[index_j]:\n",
    "            different_pair_different_referent.append((index_i, index_j))\n",
    "        if pair_speakers[index_i] == pair_speakers[index_j] and referents[index_i] != referents[index_j]:\n",
    "            same_pair_same_speaker_different_referent.append((index_i, index_j))\n",
    "    \n",
    "    # Calculate similarities\n",
    "    similarities = cosine_similarity(features)\n",
    "    same_pair_referent_speaker_similarities = compute_similarity_for_pairs(same_pair_referent_speaker, similarities)\n",
    "    same_referent_same_pair_different_speaker_similarities = compute_similarity_for_pairs(same_referent_same_pair_different_speaker, similarities)\n",
    "    same_referent_different_pair_similarities = compute_similarity_for_pairs(same_referent_different_pair, similarities)\n",
    "    same_pair_different_referent_similarities = compute_similarity_for_pairs(same_pair_different_referent, similarities)\n",
    "    different_pair_different_referent_similarities = compute_similarity_for_pairs(different_pair_different_referent, similarities)\n",
    "    same_pair_same_speaker_different_referent_similarities = compute_similarity_for_pairs(same_pair_same_speaker_different_referent, similarities)\n",
    "    \n",
    "    similarities_df = pd.DataFrame({'similarity': same_pair_referent_speaker_similarities +same_pair_same_speaker_different_referent_similarities+ same_referent_same_pair_different_speaker_similarities + same_referent_different_pair_similarities + same_pair_different_referent_similarities + different_pair_different_referent_similarities, 'pair_type': ['Same P&&S'] * len(same_pair_referent_speaker_similarities) + ['Same P&S - Diff R'] * len(same_pair_same_speaker_different_referent_similarities) +\n",
    "                                    ['Same R &P - diff S'] * len(same_referent_same_pair_different_speaker_similarities) + ['Same R - Diff P&S'] * len(same_referent_different_pair_similarities) + ['Same P - Diff R&S'] * len(same_pair_different_referent_similarities) + ['Diff P&R&S'] * len(different_pair_different_referent_similarities)})\n",
    "  \n",
    "    return similarities_df\n",
    "   "
   ]
  },
  {
   "cell_type": "markdown",
   "id": "b2dfd3a7",
   "metadata": {},
   "source": [
    "## 4 <a name='4'></a>Gesture‑Only Similarity\n",
    "Following the paper (§5.1), we compute cosine similarity and compare positive vs negative gesture pairs (same vs different referent & speaker)."
   ]
  },
  {
   "cell_type": "code",
   "execution_count": 11,
   "id": "d5e91cb8",
   "metadata": {},
   "outputs": [
    {
     "name": "stdout",
     "output_type": "stream",
     "text": [
      "Pos mean=0.27  Neg mean=0.13\n"
     ]
    },
    {
     "data": {
      "text/plain": [
       "Text(0.5, 1.0, 'Gesture similarity (cosine) for same/different referent pairs of the same speaker')"
      ]
     },
     "execution_count": 11,
     "metadata": {},
     "output_type": "execute_result"
    },
    {
     "data": {
      "image/png": "[encoded data removed]",
      "text/plain": [
       "<Figure size 640x480 with 1 Axes>"
      ]
     },
     "metadata": {},
     "output_type": "display_data"
    }
   ],
   "source": [
    "\n",
    "from sklearn.metrics.pairwise import cosine_similarity\n",
    "import itertools, random, seaborn as sns, matplotlib.pyplot as plt\n",
    "\n",
    "# build similarity matrix\n",
    "features = np.vstack(gestures_information_df[model_key].to_numpy())\n",
    "sim_mat = cosine_similarity(features)\n",
    "\n",
    "# positive / negative pairs (same speaker + same referent)\n",
    "positive_pairs, negative_pairs = [], []\n",
    "pairs = gestures_information_df['pair'].to_numpy()\n",
    "speakers = gestures_information_df['speaker'].to_numpy()\n",
    "referents = gestures_information_df['processed_referent_target_fribble'].to_numpy()\n",
    "for i, j in itertools.combinations(range(len(gestures_information_df)), 2):\n",
    "    if speakers[i] == speakers[j] and pairs[i] == pairs[j]:\n",
    "        # same speaker + same pair\n",
    "        if referents[i] == referents[j]:\n",
    "            positive_pairs.append((i,j))\n",
    "        else:\n",
    "            negative_pairs.append((i,j))\n",
    "def score(pairs):\n",
    "    return [sim_mat[i,j] for i,j in pairs]\n",
    "pos, neg = score(positive_pairs), score(negative_pairs)\n",
    "print(f'Pos mean={np.mean(pos):.2f}  Neg mean={np.mean(neg):.2f}')\n",
    "sns.violinplot(data=[pos,neg]); plt.xticks([0,1],['same ref','diff ref']); plt.ylabel('cos sim');\n",
    "# plot the mean for each pair type\n",
    "plt.errorbar([0,1], [np.mean(pos), np.mean(neg)], yerr=[np.std(pos), np.std(neg)],\n",
    "             fmt='o', color='black', capsize=5, label='mean ± std')\n",
    "# annotate the means\n",
    "plt.text(0+0.1, np.mean(pos) + 0.00, f'{np.mean(pos):.2f}', ha='center', va='bottom')\n",
    "plt.text(1+0.1, np.mean(neg) + 0.00, f'{np.mean(neg):.2f}', ha='center', va='bottom')\n",
    "plt.title('Gesture similarity (cosine) for same/different referent pairs of the same speaker')"
   ]
  },
  {
   "cell_type": "markdown",
   "id": "b04e788a",
   "metadata": {},
   "source": [
    "## 5 <a name='5'></a>Dialogue‑Level Analyses\n",
    "Replicating the **speaker ✕ referent** effects reported in §5.2"
   ]
  },
  {
   "cell_type": "code",
   "execution_count": 12,
   "id": "46402675",
   "metadata": {},
   "outputs": [],
   "source": [
    "similarities_df = compare_similarity_for_diff_pairs(features, gestures_information_df, embeddings_type='gesture')"
   ]
  },
  {
   "cell_type": "code",
   "execution_count": 13,
   "id": "a155c72a",
   "metadata": {},
   "outputs": [
    {
     "data": {
      "text/plain": [
       "{'Diff P&R&S': 9693654,\n",
       " 'Same P&S - Diff R': 436495,\n",
       " 'Same P - Diff R&S': 345797,\n",
       " 'Same R - Diff P&S': 247392,\n",
       " 'Same P&&S': 14437,\n",
       " 'Same R &P - diff S': 10791}"
      ]
     },
     "execution_count": 13,
     "metadata": {},
     "output_type": "execute_result"
    }
   ],
   "source": [
    "similarities_df['pair_type'].value_counts().to_dict()"
   ]
  },
  {
   "cell_type": "code",
   "execution_count": 14,
   "id": "3abdee50",
   "metadata": {},
   "outputs": [
    {
     "name": "stderr",
     "output_type": "stream",
     "text": [
      "/var/folders/w_/bf2mvf1d6wn_jx4fx0k7bs1m0000gp/T/ipykernel_65923/1287072405.py:6: SettingWithCopyWarning: \n",
      "A value is trying to be set on a copy of a slice from a DataFrame.\n",
      "Try using .loc[row_indexer,col_indexer] = value instead\n",
      "\n",
      "See the caveats in the documentation: https://pandas.pydata.org/pandas-docs/stable/user_guide/indexing.html#returning-a-view-versus-a-copy\n",
      "  dialogue_df['pair_type'] = pd.Categorical(dialogue_df['pair_type'], dialogue_pair_types)\n"
     ]
    },
    {
     "name": "stdout",
     "output_type": "stream",
     "text": [
      "p-value annotation legend:\n",
      "      ns: 5.00e-02 < p <= 1.00e+00\n",
      "       *: p <= 5.00e-02\n",
      "\n",
      "Same P&&S vs. Same P&S - Diff R: t-test independent samples with Bonferroni correction, P_val:0.000e+00 t=7.698e+01\n",
      "Same R &P - diff S vs. Same P - Diff R&S: t-test independent samples with Bonferroni correction, P_val:3.882e-116 t=2.298e+01\n",
      "Same P&S - Diff R vs. Same R &P - diff S: t-test independent samples with Bonferroni correction, P_val:6.814e-98 t=2.107e+01\n",
      "Same P&S - Diff R vs. Same P - Diff R&S: t-test independent samples with Bonferroni correction, P_val:0.000e+00 t=1.834e+02\n"
     ]
    },
    {
     "data": {
      "text/plain": [
       "([<matplotlib.axis.XTick at 0x17c3a83d0>,\n",
       "  <matplotlib.axis.XTick at 0x17c3aabc0>,\n",
       "  <matplotlib.axis.XTick at 0x455d9f370>,\n",
       "  <matplotlib.axis.XTick at 0x41de584f0>],\n",
       " [Text(0, 0, 'same-ref\\nsame-speaker'),\n",
       "  Text(1, 0, 'diff-ref\\nsame-speaker'),\n",
       "  Text(2, 0, 'same-ref\\ndiff-speaker'),\n",
       "  Text(3, 0, 'diff-ref\\ndiff-speaker')])"
      ]
     },
     "execution_count": 14,
     "metadata": {},
     "output_type": "execute_result"
    },
    {
     "data": {
      "image/png": "[encoded data removed]",
      "text/plain": [
       "<Figure size 800x400 with 1 Axes>"
      ]
     },
     "metadata": {},
     "output_type": "display_data"
    }
   ],
   "source": [
    "# features which involve cross-speakers\n",
    "dialogue_pair_types = ['Same P&&S', 'Same P&S - Diff R', 'Same R &P - diff S', 'Same P - Diff R&S']\n",
    "pairs_mapping = {'Same P&&S': 'same-ref\\nsame-speaker', 'Same P&S - Diff R': 'diff-ref\\nsame-speaker', 'Same R &P - diff S': 'same-ref\\ndiff-speaker', 'Same P - Diff R&S': 'diff-ref\\ndiff-speaker'}\n",
    "# sort pairs in the order of the dialogue_pair_types\n",
    "dialogue_df = similarities_df[similarities_df['pair_type'].isin(dialogue_pair_types)]  \n",
    "dialogue_df['pair_type'] = pd.Categorical(dialogue_df['pair_type'], dialogue_pair_types)\n",
    "\n",
    "\n",
    "# plot the distribution of the cross-speakers pair types\n",
    "sns.set_theme(style=\"whitegrid\")\n",
    "plt.figure(figsize=(8, 4))\n",
    "sns.violinplot(x='pair_type', y='similarity', data=dialogue_df)\n",
    "# use the Annotator class to annotate the box plot\n",
    "x = 'pair_type'\n",
    "y = 'similarity'\n",
    "order = dialogue_pair_types\n",
    "pairs = [('Same P&&S', 'Same P&S - Diff R'), ('Same R &P - diff S', 'Same P - Diff R&S'), ('Same P&S - Diff R', 'Same R &P - diff S'), ('Same P&S - Diff R', 'Same P - Diff R&S')]\n",
    "ax = plt.gca()\n",
    "annotator = Annotator(ax, pairs, data=dialogue_df, x=x, y=y, order=order)\n",
    "annotator.configure(test='t-test_ind', text_format='star', loc='outside', comparisons_correction=\"Bonferroni\", hide_non_significant=True, pvalue_thresholds=[[0.05, \"*\"], [1, \"ns\"]])\n",
    "annotator.apply_and_annotate()\n",
    "# rename the x-axis label\n",
    "plt.xlabel('')\n",
    "plt.ylabel('Cosine Similarity', fontdict={'weight': 'bold', 'size': 12})\n",
    "# rename the x-ticks \n",
    "# annotate the box plot with the mean similarity\n",
    "ax = plt.gca()\n",
    "for i, order_type in enumerate(dialogue_pair_types):\n",
    "    median = dialogue_df[dialogue_df['pair_type'] == order_type]['similarity'].median()\n",
    "    mean = dialogue_df[dialogue_df['pair_type'] == order_type]['similarity'].mean()\n",
    "    ax.text(i+0.07, median-0.1, f'μ={mean:.2f}', ha='center', va='bottom', fontsize=12, fontdict={'weight': 'bold'}, color='blue', rotation=90)\n",
    "plt.xticks(range(len(dialogue_pair_types)), [pairs_mapping[pair_type] for pair_type in dialogue_pair_types], rotation=0, fontdict={'weight': 'bold', 'size': 12})"
   ]
  },
  {
   "cell_type": "markdown",
   "id": "bd55de65",
   "metadata": {},
   "source": [
    "## 6 <a name='6'></a>Cross Dialouges Analyses\n",
    "Replicating the **Referent vs. Interaction Driven Similarity** where we compare the similarity of gestures across dialogues, as described in §5.2.2 of the paper."
   ]
  },
  {
   "cell_type": "code",
   "execution_count": 15,
   "id": "7c2f036f",
   "metadata": {},
   "outputs": [
    {
     "name": "stderr",
     "output_type": "stream",
     "text": [
      "/var/folders/w_/bf2mvf1d6wn_jx4fx0k7bs1m0000gp/T/ipykernel_65923/3988791921.py:10: SettingWithCopyWarning: \n",
      "A value is trying to be set on a copy of a slice from a DataFrame.\n",
      "Try using .loc[row_indexer,col_indexer] = value instead\n",
      "\n",
      "See the caveats in the documentation: https://pandas.pydata.org/pandas-docs/stable/user_guide/indexing.html#returning-a-view-versus-a-copy\n",
      "  cross_speakers_df['pair_type'] = pd.Categorical(cross_speakers_df['pair_type'], cross_spealers_pair_types)\n"
     ]
    },
    {
     "name": "stdout",
     "output_type": "stream",
     "text": [
      "p-value annotation legend:\n",
      "      ns: 5.00e-02 < p <= 1.00e+00\n",
      "       *: p <= 5.00e-02\n",
      "\n",
      "Same R &P - diff S vs. Same R - Diff P&S: t-test independent samples with Bonferroni correction, P_val:1.442e-08 t=5.993e+00\n",
      "Same P - Diff R&S vs. Diff P&R&S: t-test independent samples with Bonferroni correction, P_val:0.000e+00 t=4.055e+01\n",
      "Same R - Diff P&S vs. Same P - Diff R&S: t-test independent samples with Bonferroni correction, P_val:0.000e+00 t=6.049e+01\n",
      "Same R - Diff P&S vs. Same P - Diff R&S: t-test independent samples with Bonferroni correction, P_val:0.000e+00 t=6.049e+01\n",
      "Same R - Diff P&S vs. Same P - Diff R&S: t-test independent samples with Bonferroni correction, P_val:0.000e+00 t=6.049e+01\n",
      "Same R &P - diff S vs. Diff P&R&S: t-test independent samples with Bonferroni correction, P_val:8.329e-217 t=3.149e+01\n",
      "Same R &P - diff S vs. Diff P&R&S: t-test independent samples with Bonferroni correction, P_val:8.329e-217 t=3.149e+01\n"
     ]
    },
    {
     "data": {
      "text/plain": [
       "([<matplotlib.axis.XTick at 0x433e6c730>,\n",
       "  <matplotlib.axis.XTick at 0x455d4b340>,\n",
       "  <matplotlib.axis.XTick at 0x41de42830>,\n",
       "  <matplotlib.axis.XTick at 0x46b172290>],\n",
       " [Text(0, 0, 'same-ref\\nsame-dialogue'),\n",
       "  Text(1, 0, 'same-ref\\ndiff-dialogue'),\n",
       "  Text(2, 0, 'diff-referent\\nsame-dialogue'),\n",
       "  Text(3, 0, 'diff-ref\\ndiff-dialogue')])"
      ]
     },
     "execution_count": 15,
     "metadata": {},
     "output_type": "execute_result"
    },
    {
     "data": {
      "image/png": "[encoded data removed]",
      "text/plain": [
       "<Figure size 800x400 with 1 Axes>"
      ]
     },
     "metadata": {},
     "output_type": "display_data"
    }
   ],
   "source": [
    "# features which involve cross-speakers and cross-dialogues\n",
    "cross_spealers_pair_types = ['Same R &P - diff S', 'Same R - Diff P&S', 'Same P - Diff R&S', 'Diff P&R&S']\n",
    "pairs_mapping = {'Same R &P - diff S': 'same-ref\\nsame-dialogue', 'Same R - Diff P&S': 'same-ref\\ndiff-dialogue', 'Same P - Diff R&S': 'diff-referent\\nsame-dialogue', 'Diff P&R&S': 'diff-ref\\ndiff-dialogue'}\n",
    "\n",
    "# pairs_mapping = {'Same P&&S': 'Same-referent\\nsame-speaker', 'Same P&S - Diff R': 'Different-referent\\nsame-speaker', 'Same R &P - diff S': 'Same-referent\\ndifferent-speaker', 'Same P - Diff R&S': 'Different-referent\\ndifferent-speaker'}\n",
    "\n",
    "\n",
    "# sort pairs in the order of the dialogue_pair_types\n",
    "cross_speakers_df = similarities_df[similarities_df['pair_type'].isin(cross_spealers_pair_types)]  \n",
    "cross_speakers_df['pair_type'] = pd.Categorical(cross_speakers_df['pair_type'], cross_spealers_pair_types)\n",
    "\n",
    "# plot the distribution of the cross-speakers pair types\n",
    "sns.set_theme(style=\"whitegrid\")\n",
    "plt.figure(figsize=(8, 4))\n",
    "sns.barplot(x='pair_type', y='similarity', data=cross_speakers_df)\n",
    "# use the Annotator class to annotate the box plot\n",
    "x = 'pair_type'\n",
    "y = 'similarity'\n",
    "order = cross_spealers_pair_types\n",
    "pairs = [('Same R &P - diff S', 'Same R - Diff P&S'), ('Same P - Diff R&S', 'Diff P&R&S'), ('Same R - Diff P&S', 'Same P - Diff R&S'), ('Same R &P - diff S', 'Diff P&R&S'), ('Same R - Diff P&S', 'Same P - Diff R&S'), ('Same R &P - diff S', 'Diff P&R&S'), ('Same R - Diff P&S', 'Same P - Diff R&S')]\n",
    "ax = plt.gca()\n",
    "annotator = Annotator(ax, pairs, data=cross_speakers_df, x=x, y=y, order=order)\n",
    "annotator.configure(test='t-test_ind', text_format='star', loc='outside', comparisons_correction=\"Bonferroni\", hide_non_significant=True, pvalue_thresholds=[[0.05, \"*\"], [1, \"ns\"]])\n",
    "annotator.apply_and_annotate()\n",
    "# rename the x-axis label\n",
    "plt.xlabel('')\n",
    "plt.ylabel('Cosine Similarity', fontdict={'weight': 'bold', 'size': 12})\n",
    "# rename the x-ticks \n",
    "# annotate the box plot with the mean similarity\n",
    "ax = plt.gca()\n",
    "for i, order_type in enumerate(cross_spealers_pair_types):\n",
    "    mean = cross_speakers_df[cross_speakers_df['pair_type'] == order_type]['similarity'].mean()\n",
    "    ax.text(i, mean/2, f'μ={mean:.2f}', ha='center', va='bottom', fontsize=12, fontdict={'weight': 'bold'}, color='blue')\n",
    "plt.xticks(range(len(cross_spealers_pair_types)), [pairs_mapping[pair_type] for pair_type in cross_spealers_pair_types], rotation=0, fontdict={'weight': 'bold', 'size': 12})"
   ]
  },
  {
   "cell_type": "markdown",
   "id": "587493d9",
   "metadata": {},
   "source": [
    "## 7 <a name='7'></a>Conclusion  \n",
    "We reproduced the intrinsic evaluation workflow showing that cosine similarity of contrastively‑learned gesture embeddings:\n",
    "\n",
    "* rises with the number of shared form features,  \n",
    "* tracks features related to the semantic content of the gestures, speaker style, and interaction content."
   ]
  }
 ],
 "metadata": {
  "kernelspec": {
   "display_name": "test2",
   "language": "python",
   "name": "python3"
  },
  "language_info": {
   "codemirror_mode": {
    "name": "ipython",
    "version": 3
   },
   "file_extension": ".py",
   "mimetype": "text/x-python",
   "name": "python",
   "nbconvert_exporter": "python",
   "pygments_lexer": "ipython3",
   "version": "3.10.18"
  }
 },
 "nbformat": 4,
 "nbformat_minor": 5
}
