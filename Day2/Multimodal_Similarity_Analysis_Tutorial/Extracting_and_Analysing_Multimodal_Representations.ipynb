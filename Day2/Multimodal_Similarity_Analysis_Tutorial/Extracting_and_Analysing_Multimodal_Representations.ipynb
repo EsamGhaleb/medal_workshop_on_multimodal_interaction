{
 "cells": [
  {
   "cell_type": "markdown",
   "id": "39e9d7bf",
   "metadata": {},
   "source": [
    "# Extracting Semantic and Gesture Representations\n",
    "\n",
    "This notebook walks you through:\n",
    "\n",
    "1. **Extracting sentence‑level semantic embeddings** (Dutch BERT).  \n",
    "2. **Extracting gesture embeddings** with a self‑supervised skeleton‑semantic model.  \n",
    "3. **Analysing gesture‑gesture similarity**: this will be based on the similarity analysis provided in the paper by Ghaleb et al. (2024)‑ICMI: **Learning Co-Speech Gesture Representations in Dialogue through Contrastive Learning: An Intrinsic Evaluation**. It uses cosine similarity between learned embeddings to evaluate the similarity of gestures based on their semantic content and form features. It follows the intrinsic‑evaluation recipe described in the paper, where cosine similarity between learned embeddings correlated positively with the number of shared form features (ρ≈0.31).\n"
   ]
  },
  {
   "cell_type": "markdown",
   "id": "0d272e76",
   "metadata": {},
   "source": [
    "## Table of Contents  \n",
    "- [0 Setup](#0)  \n",
    "- [1 Data & Preliminaries](#1)  \n",
    "- [2 Sentence Embeddings](#2)  \n",
    "- [3 Gesture Embeddings](#3)  \n",
    "- [4 Gesture‑Only Similarity](#4)  \n",
    "- [5 Dialogue‑Level Analyses](#5)  \n",
    "- [6 Conclusion](#6)  \n"
   ]
  },
  {
   "cell_type": "markdown",
   "id": "cdfa5be4",
   "metadata": {},
   "source": [
    "## 0 <a name='0'></a>Setup\n",
    "Import common libraries."
   ]
  },
  {
   "cell_type": "code",
   "execution_count": 1,
   "id": "7fbbd24b",
   "metadata": {},
   "outputs": [
    {
     "name": "stdout",
     "output_type": "stream",
     "text": [
      "Device: cpu\n"
     ]
    }
   ],
   "source": [
    "import os, numpy as np, pandas as pd, torch\n",
    "from tqdm import tqdm\n",
    "from transformers import AutoTokenizer, AutoModel\n",
    "from model.skeleton_speech_models import GSSModel\n",
    "from data.read_process_poses import load_keypoints_dict\n",
    "from dialog_utils.prepare_gesture_referents_dataset import get_detailed_gestures\n",
    "from object_retrieval_pair import manual_implementation_object_retrieval\n",
    "from data_classes import Turn, Utterance, Gesture\n",
    "from dialog_utils import data_classes\n",
    "\n",
    "import itertools\n",
    "import pandas as pd\n",
    "from sklearn.metrics.pairwise import cosine_similarity\n",
    "from scipy.stats import mannwhitneyu\n",
    "import matplotlib.pyplot as plt\n",
    "import seaborn as sns\n",
    "from statannotations.Annotator import Annotator\n",
    "\n",
    "pd.set_option('display.precision', 2)\n",
    "DEVICE = torch.device('cuda' if torch.cuda.is_available() else 'cpu')\n",
    "print('Device:', DEVICE)"
   ]
  },
  {
   "cell_type": "code",
   "execution_count": 2,
   "id": "e916c653",
   "metadata": {},
   "outputs": [],
   "source": [
    "# set the colors and seaborn style\n",
    "import matplotlib.pyplot as plt\n",
    "import seaborn as sns\n",
    "sns.set(style='whitegrid', palette='Paired', font_scale=1.2)"
   ]
  },
  {
   "cell_type": "markdown",
   "id": "2717e864",
   "metadata": {},
   "source": [
    "## 1 <a name='1'></a>Data & Preliminaries\n",
    "We first define helper functions to obtain mean‑pooled sentence vectors from Dutch BERT."
   ]
  },
  {
   "cell_type": "code",
   "execution_count": 3,
   "id": "05ddc70f",
   "metadata": {},
   "outputs": [],
   "source": [
    "def mean_pooling(out, mask):\n",
    "    tok_emb = out[0]\n",
    "    mask_exp = mask.unsqueeze(-1).expand(tok_emb.size()).float()\n",
    "    summed = (tok_emb * mask_exp).sum(1)\n",
    "    denom = mask_exp.sum(1).clamp(min=1e-9)\n",
    "    return summed / denom\n",
    "\n",
    "def get_sentence_emb(sentences, model, tok):\n",
    "    enc = tok(sentences, padding=True, truncation=True, return_tensors='pt').to(DEVICE)\n",
    "    with torch.no_grad():\n",
    "        out = model(**enc)\n",
    "    return mean_pooling(out, enc['attention_mask'])\n",
    "\n",
    "def load_text_model():\n",
    "    tok = AutoTokenizer.from_pretrained('GroNLP/bert-base-dutch-cased')\n",
    "    mdl = AutoModel.from_pretrained('GroNLP/bert-base-dutch-cased',\n",
    "                                    output_hidden_states=True).to(DEVICE)\n",
    "    mdl.eval()\n",
    "    return mdl, tok\n"
   ]
  },
  {
   "cell_type": "markdown",
   "id": "1b188ba3",
   "metadata": {},
   "source": [
    "### Load the gesture data and the poses. \n",
    "\n",
    "The data contains metadata about the gestures, including the speaker, referent, and co-occurring transcriped speech. "
   ]
  },
  {
   "cell_type": "code",
   "execution_count": 4,
   "id": "52b430f4",
   "metadata": {},
   "outputs": [
    {
     "name": "stdout",
     "output_type": "stream",
     "text": [
      "Iconic gestures loaded: 4637\n"
     ]
    }
   ],
   "source": [
    "proc_kpts, mir_kpts = load_keypoints_dict()\n",
    "gestures_information_df = get_detailed_gestures()\n",
    "# keep iconic strokes only\n",
    "gestures_information_df = gestures_information_df[gestures_information_df['type'] == 'iconic'].reset_index(drop=True)\n",
    "# referent cleaning (see paper §3.2)\n",
    "to_remove = ['-REP', '-rep', '-WF', '-wf', 'ref', 'REF']\n",
    "gestures_information_df['referent_clean'] = gestures_information_df['referent'].apply(\n",
    "    lambda x: x if not x.endswith(tuple(to_remove)) else x.split('-')[0])\n",
    "gestures_information_df = gestures_information_df.assign(\n",
    "    referent_clean=gestures_information_df['referent_clean'].str.split('+')).explode('referent_clean')\n",
    "gestures_information_df['referent_clean'] = gestures_information_df['referent_clean'].str.strip().str.replace('-', '0').str.replace(\"'\", '')\n",
    "gestures_information_df = gestures_information_df[gestures_information_df['referent_clean'] != 'undecided']\n",
    "gestures_information_df['processed_referent_target_fribble'] = gestures_information_df['referent_clean']\n",
    "print('Iconic gestures loaded:', len(gestures_information_df))\n"
   ]
  },
  {
   "cell_type": "markdown",
   "id": "e623d4ca",
   "metadata": {},
   "source": [
    "### 1.2 Let's inspect few rows of the annotated gesture DataFrame. "
   ]
  },
  {
   "cell_type": "code",
   "execution_count": 5,
   "id": "2269bf9c",
   "metadata": {},
   "outputs": [
    {
     "data": {
      "text/html": [
       "<div>\n",
       "<style scoped>\n",
       "    .dataframe tbody tr th:only-of-type {\n",
       "        vertical-align: middle;\n",
       "    }\n",
       "\n",
       "    .dataframe tbody tr th {\n",
       "        vertical-align: top;\n",
       "    }\n",
       "\n",
       "    .dataframe thead th {\n",
       "        text-align: right;\n",
       "    }\n",
       "</style>\n",
       "<table border=\"1\" class=\"dataframe\">\n",
       "  <thead>\n",
       "    <tr style=\"text-align: right;\">\n",
       "      <th></th>\n",
       "      <th>pair</th>\n",
       "      <th>turn</th>\n",
       "      <th>round</th>\n",
       "      <th>type</th>\n",
       "      <th>is_gesture</th>\n",
       "      <th>from_ts</th>\n",
       "      <th>to_ts</th>\n",
       "      <th>referent</th>\n",
       "      <th>comment</th>\n",
       "      <th>duration</th>\n",
       "      <th>...</th>\n",
       "      <th>pair_speaker</th>\n",
       "      <th>words</th>\n",
       "      <th>lemmas</th>\n",
       "      <th>pos</th>\n",
       "      <th>lemmas_pos</th>\n",
       "      <th>transcriptions</th>\n",
       "      <th>contain_text</th>\n",
       "      <th>segmentation method</th>\n",
       "      <th>referent_clean</th>\n",
       "      <th>processed_referent_target_fribble</th>\n",
       "    </tr>\n",
       "  </thead>\n",
       "  <tbody>\n",
       "    <tr>\n",
       "      <th>0</th>\n",
       "      <td>pair04</td>\n",
       "      <td>0</td>\n",
       "      <td>1</td>\n",
       "      <td>iconic</td>\n",
       "      <td>gesture</td>\n",
       "      <td>4.09</td>\n",
       "      <td>4.50</td>\n",
       "      <td>main</td>\n",
       "      <td>NaN</td>\n",
       "      <td>0.41</td>\n",
       "      <td>...</td>\n",
       "      <td>pair04_B</td>\n",
       "      <td>zeggen dat hoofdplatform</td>\n",
       "      <td>zeggen dat hoofdplatform</td>\n",
       "      <td>VERB SCONJ NOUN</td>\n",
       "      <td>zeggen#VERB dat#SCONJ hoofdplatform#NOUN</td>\n",
       "      <td>manual</td>\n",
       "      <td>True</td>\n",
       "      <td>manual</td>\n",
       "      <td>main</td>\n",
       "      <td>main</td>\n",
       "    </tr>\n",
       "    <tr>\n",
       "      <th>1</th>\n",
       "      <td>pair04</td>\n",
       "      <td>2</td>\n",
       "      <td>1</td>\n",
       "      <td>iconic</td>\n",
       "      <td>gesture</td>\n",
       "      <td>8.46</td>\n",
       "      <td>8.94</td>\n",
       "      <td>09C</td>\n",
       "      <td>NaN</td>\n",
       "      <td>0.48</td>\n",
       "      <td>...</td>\n",
       "      <td>pair04_B</td>\n",
       "      <td>steeksel aan de linkerkant</td>\n",
       "      <td>steeksel aan de linkerkant</td>\n",
       "      <td>NOUN ADP DET NOUN</td>\n",
       "      <td>steeksel#NOUN aan#ADP de#DET linkerkant#NOUN</td>\n",
       "      <td>manual</td>\n",
       "      <td>True</td>\n",
       "      <td>manual</td>\n",
       "      <td>09C</td>\n",
       "      <td>09C</td>\n",
       "    </tr>\n",
       "    <tr>\n",
       "      <th>2</th>\n",
       "      <td>pair04</td>\n",
       "      <td>4</td>\n",
       "      <td>1</td>\n",
       "      <td>iconic</td>\n",
       "      <td>gesture</td>\n",
       "      <td>11.78</td>\n",
       "      <td>12.20</td>\n",
       "      <td>09C</td>\n",
       "      <td>NaN</td>\n",
       "      <td>0.42</td>\n",
       "      <td>...</td>\n",
       "      <td>pair04_B</td>\n",
       "      <td>is een rond uitsteeksel</td>\n",
       "      <td>zijn een rond uitsteeksel</td>\n",
       "      <td>AUX DET ADP NOUN</td>\n",
       "      <td>zijn#AUX een#DET rond#ADP uitsteeksel#NOUN</td>\n",
       "      <td>manual</td>\n",
       "      <td>True</td>\n",
       "      <td>manual</td>\n",
       "      <td>09C</td>\n",
       "      <td>09C</td>\n",
       "    </tr>\n",
       "  </tbody>\n",
       "</table>\n",
       "<p>3 rows × 35 columns</p>\n",
       "</div>"
      ],
      "text/plain": [
       "     pair  turn  round    type is_gesture  from_ts  to_ts referent comment  \\\n",
       "0  pair04     0      1  iconic    gesture     4.09   4.50     main     NaN   \n",
       "1  pair04     2      1  iconic    gesture     8.46   8.94      09C     NaN   \n",
       "2  pair04     4      1  iconic    gesture    11.78  12.20      09C     NaN   \n",
       "\n",
       "   duration  ...  pair_speaker                       words  \\\n",
       "0      0.41  ...      pair04_B    zeggen dat hoofdplatform   \n",
       "1      0.48  ...      pair04_B  steeksel aan de linkerkant   \n",
       "2      0.42  ...      pair04_B     is een rond uitsteeksel   \n",
       "\n",
       "                       lemmas                pos  \\\n",
       "0    zeggen dat hoofdplatform    VERB SCONJ NOUN   \n",
       "1  steeksel aan de linkerkant  NOUN ADP DET NOUN   \n",
       "2   zijn een rond uitsteeksel   AUX DET ADP NOUN   \n",
       "\n",
       "                                     lemmas_pos transcriptions contain_text  \\\n",
       "0      zeggen#VERB dat#SCONJ hoofdplatform#NOUN         manual         True   \n",
       "1  steeksel#NOUN aan#ADP de#DET linkerkant#NOUN         manual         True   \n",
       "2    zijn#AUX een#DET rond#ADP uitsteeksel#NOUN         manual         True   \n",
       "\n",
       "   segmentation method referent_clean processed_referent_target_fribble  \n",
       "0               manual           main                              main  \n",
       "1               manual            09C                               09C  \n",
       "2               manual            09C                               09C  \n",
       "\n",
       "[3 rows x 35 columns]"
      ]
     },
     "execution_count": 5,
     "metadata": {},
     "output_type": "execute_result"
    }
   ],
   "source": [
    "gestures_information_df.head(3)  # Display the first 3 rows of the DataFrame"
   ]
  },
  {
   "cell_type": "markdown",
   "id": "10525ebf",
   "metadata": {},
   "source": [
    "## 2 <a name='2'></a>Sentence Embeddings  \n",
    "\n",
    "Let's first start with loading the Dutch BERT model and defining a function to obtain mean‑pooled sentence vectors.\n",
    "\n",
    "Then, we demonstrate how to encode two Dutch sentences using the model.\n"
   ]
  },
  {
   "cell_type": "code",
   "execution_count": 6,
   "id": "515f8199",
   "metadata": {},
   "outputs": [
    {
     "name": "stderr",
     "output_type": "stream",
     "text": [
      "Some weights of BertModel were not initialized from the model checkpoint at GroNLP/bert-base-dutch-cased and are newly initialized: ['pooler.dense.bias', 'pooler.dense.weight']\n",
      "You should probably TRAIN this model on a down-stream task to be able to use it for predictions and inference.\n"
     ]
    },
    {
     "name": "stdout",
     "output_type": "stream",
     "text": [
      "(2, 768)\n"
     ]
    }
   ],
   "source": [
    "text_model, tokenizer = load_text_model()\n",
    "TEST = ['Een korte zin.', 'Nog een voorbeeld.']\n",
    "embs = get_sentence_emb(TEST, text_model, tokenizer).cpu().numpy()\n",
    "print(embs.shape)  # (2, 768)"
   ]
  },
  {
   "cell_type": "code",
   "execution_count": 7,
   "id": "1d2d397a",
   "metadata": {},
   "outputs": [
    {
     "name": "stderr",
     "output_type": "stream",
     "text": [
      "  0%|          | 0/4637 [00:00<?, ?it/s]huggingface/tokenizers: The current process just got forked, after parallelism has already been used. Disabling parallelism to avoid deadlocks...\n",
      "To disable this warning, you can either:\n",
      "\t- Avoid using `tokenizers` before the fork if possible\n",
      "\t- Explicitly set the environment variable TOKENIZERS_PARALLELISM=(true | false)\n",
      "100%|██████████| 4637/4637 [02:17<00:00, 33.85it/s]\n"
     ]
    }
   ],
   "source": [
    "# remove any existing column\n",
    "if 'semantic_embeddings' in gestures_information_df:\n",
    "    gestures_information_df.drop(columns='semantic_embeddings', inplace=True)\n",
    "# compute embeddings with a list and assign once\n",
    "embeddings = []\n",
    "for utt in tqdm(gestures_information_df['processed_utterance'], total=len(gestures_information_df)):\n",
    "    text = \"\" if pd.isna(utt) else utt.strip()\n",
    "    emb = get_sentence_emb([text], text_model, tokenizer).squeeze(0).cpu().numpy()\n",
    "    embeddings.append(emb)\n",
    "\n",
    "gestures_information_df['semantic_embeddings'] = embeddings\n"
   ]
  },
  {
   "cell_type": "markdown",
   "id": "e67d096b",
   "metadata": {},
   "source": [
    "## 3 <a name='3'></a> Gesture Embeddings\n",
    "\n",
    "\n"
   ]
  },
  {
   "cell_type": "markdown",
   "id": "94da7f87",
   "metadata": {},
   "source": [
    "We use the `Multimodal-X` encoders from another paper, **I see what you mean: Co-Speech Gestures for Reference Resolution in Multimodal Dialogue** (Ghaleb et al., 2025), to extract gesture embeddings. The models are trained on skeleton and semantic features, and we use it to obtain gesture embeddings."
   ]
  },
  {
   "cell_type": "code",
   "execution_count": 8,
   "id": "3fc83055",
   "metadata": {},
   "outputs": [],
   "source": [
    "def load_pretrained(params):\n",
    "    path = params['model_weights']\n",
    "    params = params.copy(); _ = params.pop('model_weights')\n",
    "    mdl = GSSModel(**params)\n",
    "    w = torch.load(path, map_location='cpu')\n",
    "    for k in mdl.state_dict():\n",
    "        mdl.state_dict()[k].copy_(w['state_dict']['model.'+k])\n",
    "    return mdl.to(DEVICE).eval()\n",
    "\n",
    "MODELS = {\n",
    "    'multimodal-x': {\n",
    "        'modalities':['skeleton','semantic'],\n",
    "        'hidden_dim':256,'cross_modal':True,'attentive_pooling':False,\n",
    "        'model_weights':'pretrained_models/multimodal-x_skeleton_text_correlation=0.30.ckpt'}\n",
    "}\n",
    "model_key = 'multimodal-x'\n",
    "mdl = load_pretrained(MODELS[model_key])\n"
   ]
  },
  {
   "cell_type": "markdown",
   "id": "2f40f495",
   "metadata": {},
   "source": [
    "### Extract embeddings for the full dataset"
   ]
  },
  {
   "cell_type": "code",
   "execution_count": 9,
   "id": "25693bae",
   "metadata": {},
   "outputs": [
    {
     "name": "stderr",
     "output_type": "stream",
     "text": [
      "  0%|          | 0/4637 [00:00<?, ?it/s]/opt/anaconda3/envs/test2/lib/python3.10/site-packages/transformers/tokenization_utils_base.py:2714: UserWarning: `max_length` is ignored when `padding`=`True` and there is no truncation strategy. To pad to max length, use `padding='max_length'`.\n",
      "  warnings.warn(\n",
      "100%|██████████| 4637/4637 [07:26<00:00, 10.39it/s]"
     ]
    },
    {
     "name": "stdout",
     "output_type": "stream",
     "text": [
      "Embedding vector length: 256\n"
     ]
    },
    {
     "name": "stderr",
     "output_type": "stream",
     "text": [
      "\n"
     ]
    }
   ],
   "source": [
    "gestures_information_df = manual_implementation_object_retrieval(\n",
    "        mdl, proc_kpts, mir_kpts, 'jointsformer',\n",
    "        gestures_and_speech_info=gestures_information_df,\n",
    "        modalities=MODELS[model_key]['modalities'],\n",
    "        audio_dict={}, model_type=model_key)\n",
    "gestures_information_df.rename(columns={'transformer_features': model_key}, inplace=True)\n",
    "print('Embedding vector length:', len(gestures_information_df[model_key].iloc[0]))"
   ]
  },
  {
   "cell_type": "markdown",
   "id": "2637a986",
   "metadata": {},
   "source": [
    "## 6  Intrinsic Gesture‑Similarity Evaluation <a name=\"Similarity\"></a>\n",
    "\n",
    "Following Section 5 of the paper, we compare cosine similarity\n",
    "scores across logically defined *pair types*:\n",
    "\n",
    "| Pair Type | Same Speaker | Same Referent | Same Dialogue |\n",
    "|-----------|--------------|---------------|---------------|\n",
    "| **same-ref & same-speaker** | ✅ | ✅ | ✅ |\n",
    "| **same-ref & diff-speaker** | ❌ | ✅ | ✅ |\n",
    "| **diff-ref & same-speaker** | ✅ | ❌ | ✅ |\n",
    "| **diff-ref & diff-speaker** | ❌ | ❌ | ✅ |\n",
    "| **Cross‑Dialogue & same-ref** | ❌ | ✅ | ❌ |\n",
    "| **Cross‑Dialogue & diff-ref** | ❌ | ❌ | ❌ |\n"
   ]
  },
  {
   "cell_type": "markdown",
   "id": "b2dfd3a7",
   "metadata": {},
   "source": [
    "## 4 <a name='4'></a>Similarity Analysis\n",
    "\n",
    "Following the paper (§5.1), we compute cosine similarity and compare positive vs negative gesture pairs (same vs different referent & speaker).\n",
    "\n",
    "**NOTE**: the similarity analysis is based on the `gesture_embeddings` column, which contains the gesture embeddings extracted from the `Multimodal-X` model.\n",
    "\n",
    "However, we can also compute multimodal similarity by concatenating the gesture embeddings with the semantic embeddings. This is done in the next section.  In the code below, the `modality` parameter can be set to either `'gesture'`, `'semantic'`, or `'multimodal'`.\n",
    "```python\n",
    "def compute_multimodal_similarity(df: pd.DataFrame, model_key: str, modality: str) -> np.ndarray:\n",
    "    \"\"\"\n",
    "    Build a multimodal feature matrix by concatenating model embeddings and semantic embeddings,\n",
    "    then compute the cosine similarity matrix.\n",
    "    \n",
    "    Parameters:\n",
    "    - df: DataFrame containing gesture data with model embeddings and semantic embeddings.\n",
    "    - model_key: Column name for the model embeddings in the DataFrame.\n",
    "    - modality: The modality type: 'gesture', 'semantic', or 'multimodal'.\n",
    "    \"\"\"\n",
    "    visual_feats = np.vstack(df[model_key].to_numpy())\n",
    "    semantic_feats = np.vstack(df['semantic_embeddings'].to_numpy())\n",
    "    \n",
    "    if modality == 'gesture':\n",
    "        return cosine_similarity(visual_feats)\n",
    "    elif modality == 'semantic':\n",
    "        return cosine_similarity(semantic_feats)\n",
    "    elif modality == 'multimodal':\n",
    "        # Concatenate visual and semantic features for multimodal similarity\n",
    "        features = np.concatenate((visual_feats, semantic_feats), axis=1)\n",
    "        return cosine_similarity(features)\n",
    "```\n"
   ]
  },
  {
   "cell_type": "code",
   "execution_count": 46,
   "id": "02f15658",
   "metadata": {},
   "outputs": [
    {
     "data": {
      "image/png": "[encoded data removed]",
      "text/plain": [
       "<Figure size 600x400 with 1 Axes>"
      ]
     },
     "metadata": {},
     "output_type": "display_data"
    }
   ],
   "source": [
    "import numpy as np\n",
    "import pandas as pd\n",
    "import itertools\n",
    "from sklearn.metrics.pairwise import cosine_similarity\n",
    "import seaborn as sns\n",
    "import matplotlib.pyplot as plt\n",
    "from statannotations.Annotator import Annotator\n",
    "\n",
    "def compute_multimodal_similarity(df: pd.DataFrame, model_key: str, modality: str) -> np.ndarray:\n",
    "    \"\"\"\n",
    "    Build a multimodal feature matrix by concatenating model embeddings and semantic embeddings,\n",
    "    then compute the cosine similarity matrix.\n",
    "    \n",
    "    Parameters:\n",
    "    - df: DataFrame containing gesture data with model embeddings and semantic embeddings.\n",
    "    - model_key: Column name for the model embeddings in the DataFrame.\n",
    "    - modality: The modality type: 'gesture', 'semantic', or 'multimodal'.\n",
    "    \"\"\"\n",
    "    visual_feats = np.vstack(df[model_key].to_numpy())\n",
    "    semantic_feats = np.vstack(df['semantic_embeddings'].to_numpy())\n",
    "    if modality == 'gesture':\n",
    "        return cosine_similarity(visual_feats)\n",
    "    elif modality == 'semantic':\n",
    "        return cosine_similarity(semantic_feats)\n",
    "    elif modality == 'multimodal':\n",
    "    # Concatenate visual and semantic features for multimodal similarity\n",
    "        features = np.concatenate((visual_feats, semantic_feats), axis=1)\n",
    "    return cosine_similarity(features)\n",
    "\n",
    "\n",
    "def extract_pairs(df: pd.DataFrame) -> tuple[list[tuple[int, int]], list[tuple[int, int]]]:\n",
    "    \"\"\"\n",
    "    Identify positive and negative pairs within the same speaker according to referent match.\n",
    "    Returns lists of index pairs for positive (same referent) and negative (different referent) cases.\n",
    "    \"\"\"\n",
    "    positive, negative = [], []\n",
    "    speakers = df['speaker'].to_numpy()\n",
    "    pairs = df['pair'].to_numpy()\n",
    "    referents = df['processed_referent_target_fribble'].to_numpy()\n",
    "\n",
    "    for i, j in itertools.combinations(range(len(df)), 2):\n",
    "        if speakers[i] == speakers[j] and pairs[i] == pairs[j]:\n",
    "            if referents[i] == referents[j]:\n",
    "                positive.append((i, j))\n",
    "            else:\n",
    "                negative.append((i, j))\n",
    "    return positive, negative\n",
    "\n",
    "\n",
    "def build_similarity_dataframe(df: pd.DataFrame, sim_mat: np.ndarray) -> pd.DataFrame:\n",
    "    \"\"\"\n",
    "    Build a DataFrame of pairwise similarities with pair_type labels.\n",
    "    \"\"\"\n",
    "    records = []\n",
    "    for i, j in itertools.combinations(range(len(df)), 2):\n",
    "        sim = sim_mat[i, j]\n",
    "        speaker_i, speaker_j = df['pair_speaker'].iat[i], df['pair_speaker'].iat[j]\n",
    "        referent_i, referent_j = df['processed_referent_target_fribble'].iat[i], df['processed_referent_target_fribble'].iat[j]\n",
    "        pair_i, pair_j = df['pair'].iat[i], df['pair'].iat[j]\n",
    "\n",
    "        same_pair = (pair_i == pair_j)\n",
    "        same_speaker = (speaker_i == speaker_j)\n",
    "        same_referent = (referent_i == referent_j)\n",
    "\n",
    "        if same_pair and same_speaker and same_referent:\n",
    "            pair_type = 'Same P&R&S' # Same pair, same speaker, same referent\n",
    "        elif same_pair and same_speaker and not same_referent:\n",
    "            pair_type = 'Same P&S - Diff R' # Same pair, same speaker, different referent\n",
    "        elif same_pair and not same_speaker and same_referent:\n",
    "            pair_type = 'Same R &P - diff S' # Same pair, different speaker, same referent\n",
    "        elif same_pair and not same_speaker and not same_referent:\n",
    "            pair_type = 'Same P - Diff R&S' # Same pair, different speaker, different referent\n",
    "        elif not same_pair and same_referent and not same_speaker:\n",
    "            pair_type = 'Same R - Diff P&S' # Same referent, different pair, different speaker\n",
    "        elif not same_pair and not same_referent and not same_speaker:\n",
    "            pair_type = 'Diff P&R&S' # Different pair, different speaker, different referent\n",
    "        else:\n",
    "            pair_type = 'Unknown' # Fallback for unexpected cases (should not happen)\n",
    "\n",
    "        records.append({\n",
    "            'index_i': i,\n",
    "            'index_j': j,\n",
    "            'similarity': sim,\n",
    "            'pair_type': pair_type\n",
    "        })\n",
    "    return pd.DataFrame(records)\n",
    "\n",
    "\n",
    "def pair_scores(sim_mat: np.ndarray, pairs: list[tuple[int, int]]) -> np.ndarray:\n",
    "    \"\"\"\n",
    "    Return an array of similarity scores for the given index pairs.\n",
    "    \"\"\"\n",
    "    return np.array([sim_mat[i, j] for i, j in pairs])\n",
    "\n",
    "\n",
    "def plot_same_speaker_similarity(pos_scores: np.ndarray, neg_scores: np.ndarray) -> None:\n",
    "    \"\"\"\n",
    "    Plot violin plots for same-speaker positive vs. negative similarity scores,\n",
    "    annotate means and standard deviations.\n",
    "    \"\"\"\n",
    "    sns.set_theme(style=\"whitegrid\")\n",
    "    fig, ax = plt.subplots(figsize=(6, 4))\n",
    "    sns.violinplot(data=[pos_scores, neg_scores], ax=ax)\n",
    "    ax.set_xticks([0, 1])\n",
    "    ax.set_xticklabels(['Same referent', 'Different referent'])\n",
    "    ax.set_ylabel('Cosine Similarity')\n",
    "    \n",
    "    means = [pos_scores.mean(), neg_scores.mean()]\n",
    "    stds = [pos_scores.std(), neg_scores.std()]\n",
    "    ax.errorbar([0, 1], means, yerr=stds, fmt='o', color='black', capsize=5)\n",
    "\n",
    "    for idx, mean in enumerate(means):\n",
    "        ax.text(idx + 0.1, mean, f'{mean:.2f}', ha='center', va='bottom')\n",
    "\n",
    "    ax.set_title('Gesture Cosine Similarity Same speaker: same vs. different referent')\n",
    "    plt.tight_layout()\n",
    "    plt.show()\n",
    "\n",
    "\n",
    "\n",
    "\n",
    "if __name__ == \"__main__\":\n",
    "  \n",
    "    # Compute similarity matrix\n",
    "    model_key = 'multimodal-x'  # or your model column\n",
    "    sim_matrix = compute_multimodal_similarity(gestures_information_df, model_key, modality='gesture')\n",
    "\n",
    "    # Build similarities DataFrame\n",
    "    similarities_df = build_similarity_dataframe(gestures_information_df, sim_matrix)\n",
    "\n",
    "    # Extract same-speaker pairs and scores\n",
    "    pos_pairs, neg_pairs = extract_pairs(gestures_information_df)\n",
    "    pos_scores = pair_scores(sim_matrix, pos_pairs)\n",
    "    neg_scores = pair_scores(sim_matrix, neg_pairs)\n",
    "\n",
    "    # Plot analyses\n",
    "    plot_same_speaker_similarity(pos_scores, neg_scores)"
   ]
  },
  {
   "cell_type": "markdown",
   "id": "b04e788a",
   "metadata": {},
   "source": [
    "## 5 <a name='5'></a>Dialogue‑Level Analyses\n",
    "Replicating the **speaker ✕ referent** effects reported in §5.2"
   ]
  },
  {
   "cell_type": "code",
   "execution_count": 47,
   "id": "46402675",
   "metadata": {},
   "outputs": [
    {
     "name": "stdout",
     "output_type": "stream",
     "text": [
      "p-value annotation legend:\n",
      "      ns: 5.00e-02 < p <= 1.00e+00\n",
      "       *: 1.00e-02 < p <= 5.00e-02\n",
      "      **: 1.00e-03 < p <= 1.00e-02\n",
      "     ***: 1.00e-04 < p <= 1.00e-03\n",
      "    ****: p <= 1.00e-04\n",
      "\n",
      "Same P&R&S vs. Same P&S - Diff R: t-test independent samples with Bonferroni correction, P_val:0.000e+00 t=4.113e+01\n",
      "Same R &P - diff S vs. Same P - Diff R&S: t-test independent samples with Bonferroni correction, P_val:1.506e-62 t=1.683e+01\n",
      "Same P&S - Diff R vs. Same R &P - diff S: t-test independent samples with Bonferroni correction, P_val:9.410e-63 t=1.686e+01\n",
      "Same P&S - Diff R vs. Same P - Diff R&S: t-test independent samples with Bonferroni correction, P_val:4.477e-219 t=3.201e+01\n"
     ]
    },
    {
     "name": "stderr",
     "output_type": "stream",
     "text": [
      "/var/folders/w_/bf2mvf1d6wn_jx4fx0k7bs1m0000gp/T/ipykernel_3964/1474473626.py:26: FutureWarning: DataFrameGroupBy.apply operated on the grouping columns. This behavior is deprecated, and in a future version of pandas the grouping columns will be excluded from the operation. Either pass `include_groups=False` to exclude the groupings or explicitly select the grouping columns after groupby to silence this warning.\n",
      "  df = df.groupby('pair_type').apply(\n",
      "/var/folders/w_/bf2mvf1d6wn_jx4fx0k7bs1m0000gp/T/ipykernel_3964/1474473626.py:36: FutureWarning: \n",
      "\n",
      "Passing `palette` without assigning `hue` is deprecated and will be removed in v0.14.0. Assign the `x` variable to `hue` and set `legend=False` for the same effect.\n",
      "\n",
      "  sns.violinplot(\n"
     ]
    },
    {
     "data": {
      "image/png": "[encoded data removed]",
      "text/plain": [
       "<Figure size 800x600 with 1 Axes>"
      ]
     },
     "metadata": {},
     "output_type": "display_data"
    }
   ],
   "source": [
    "def plot_cross_speaker_similarity(similarities_df: pd.DataFrame, subsample: bool) -> None:\n",
    "    \"\"\"\n",
    "    Plot violin distributions of similarity across dialogue pair types,\n",
    "    with t-test annotations and distinct colors per category.\n",
    "    \"\"\"\n",
    "    order = [\n",
    "        'Same P&R&S',\n",
    "        'Same P&S - Diff R',\n",
    "        'Same R &P - diff S',\n",
    "        'Same P - Diff R&S'\n",
    "    ]\n",
    "    labels = {\n",
    "        'Same P&R&S': 'same-ref\\nsame-speaker',\n",
    "        'Same P&S - Diff R': 'diff-ref\\nsame-speaker',\n",
    "        'Same R &P - diff S': 'same-ref\\ndiff-speaker',\n",
    "        'Same P - Diff R&S': 'diff-ref\\ndiff-speaker'\n",
    "    }\n",
    "\n",
    "    df = similarities_df.copy()\n",
    "    if subsample:\n",
    "      # Subsample to the minimum number of pairs\n",
    "      smallest_size = min(\n",
    "            df[df['pair_type'] == t].shape[0] for t in order\n",
    "      )\n",
    "      # Select a random sample of the minimum size for each type\n",
    "      df = df.groupby('pair_type').apply(\n",
    "            lambda x: x.sample(n=smallest_size, random_state=42)\n",
    "      ).reset_index(drop=True)\n",
    "    df = df[df['pair_type'].isin(order)]\n",
    "    df['pair_type'] = pd.Categorical(df['pair_type'], categories=order)\n",
    "\n",
    "    sns.set_theme(style=\"whitegrid\")\n",
    "    fig, ax = plt.subplots(figsize=(8, 6))\n",
    "    # Use a distinct palette\n",
    "    palette = sns.color_palette('Set2', n_colors=len(order))\n",
    "    sns.violinplot(\n",
    "        x='pair_type', y='similarity', data=df,\n",
    "        order=order, palette=palette, ax=ax\n",
    "    )\n",
    "\n",
    "    comparisons = [\n",
    "        ('Same P&R&S', 'Same P&S - Diff R'),\n",
    "        ('Same R &P - diff S', 'Same P - Diff R&S'),\n",
    "        ('Same P&S - Diff R', 'Same R &P - diff S'),\n",
    "        ('Same P&S - Diff R', 'Same P - Diff R&S')\n",
    "    ]\n",
    "    annotator = Annotator(\n",
    "        ax,\n",
    "        comparisons,\n",
    "        data=df,\n",
    "        x='pair_type',\n",
    "        y='similarity',\n",
    "        order=order\n",
    "    )\n",
    "    annotator.configure(\n",
    "        test='t-test_ind',\n",
    "        text_format='star',\n",
    "        loc='outside',\n",
    "        comparisons_correction='Bonferroni',\n",
    "        hide_non_significant=True,\n",
    "    )\n",
    "    annotator.apply_and_annotate()\n",
    "\n",
    "    for i, key in enumerate(order):\n",
    "        subset = df[df['pair_type'] == key]['similarity']\n",
    "        mean = subset.mean()\n",
    "        median = subset.median()\n",
    "        ax.text(\n",
    "            i + 0.07, median - 0.1, f'μ={mean:.2f}',\n",
    "            ha='center', va='bottom', fontsize=10, weight='bold', rotation=90\n",
    "        )\n",
    "\n",
    "    ax.set_xlabel('')\n",
    "    ax.set_ylabel('Cosine Similarity', fontweight='bold', fontsize=12)\n",
    "    ax.set_xticks(range(len(order)))\n",
    "    ax.set_xticklabels([labels[key] for key in order], fontweight='bold', fontsize=12)\n",
    "\n",
    "    plt.tight_layout()\n",
    "    plt.show()\n",
    "\n",
    "\n",
    "plot_cross_speaker_similarity(similarities_df, subsample=True)"
   ]
  },
  {
   "cell_type": "code",
   "execution_count": 48,
   "id": "a155c72a",
   "metadata": {},
   "outputs": [
    {
     "data": {
      "text/plain": [
       "{'Diff P&R&S': 9693654,\n",
       " 'Same P&S - Diff R': 436495,\n",
       " 'Same P - Diff R&S': 345797,\n",
       " 'Same R - Diff P&S': 247392,\n",
       " 'Same P&R&S': 14437,\n",
       " 'Same R &P - diff S': 10791}"
      ]
     },
     "execution_count": 48,
     "metadata": {},
     "output_type": "execute_result"
    }
   ],
   "source": [
    "similarities_df['pair_type'].value_counts().to_dict()"
   ]
  },
  {
   "cell_type": "markdown",
   "id": "bd55de65",
   "metadata": {},
   "source": [
    "## 6 <a name='6'></a>Cross Dialouges Analyses\n",
    "Replicating the **Referent vs. Interaction Driven Similarity** where we compare the similarity of gestures across dialogues, as described in §5.2.2 of the paper."
   ]
  },
  {
   "cell_type": "code",
   "execution_count": 50,
   "id": "35982cc4",
   "metadata": {},
   "outputs": [
    {
     "name": "stderr",
     "output_type": "stream",
     "text": [
      "/var/folders/w_/bf2mvf1d6wn_jx4fx0k7bs1m0000gp/T/ipykernel_3964/2485194575.py:38: FutureWarning: \n",
      "\n",
      "The `ci` parameter is deprecated. Use `errorbar=('ci', 95)` for the same effect.\n",
      "\n",
      "  sns.barplot(\n",
      "/var/folders/w_/bf2mvf1d6wn_jx4fx0k7bs1m0000gp/T/ipykernel_3964/2485194575.py:38: FutureWarning: \n",
      "\n",
      "Passing `palette` without assigning `hue` is deprecated and will be removed in v0.14.0. Assign the `x` variable to `hue` and set `legend=False` for the same effect.\n",
      "\n",
      "  sns.barplot(\n"
     ]
    },
    {
     "name": "stdout",
     "output_type": "stream",
     "text": [
      "p-value annotation legend:\n",
      "      ns: 5.00e-02 < p <= 1.00e+00\n",
      "       *: 1.00e-02 < p <= 5.00e-02\n",
      "      **: 1.00e-03 < p <= 1.00e-02\n",
      "     ***: 1.00e-04 < p <= 1.00e-03\n",
      "    ****: p <= 1.00e-04\n",
      "\n",
      "Same R &P - diff S vs. Same R - Diff P&S: t-test independent samples with Bonferroni correction, P_val:6.181e-09 t=5.993e+00\n",
      "Same P - Diff R&S vs. Diff P&R&S: t-test independent samples with Bonferroni correction, P_val:0.000e+00 t=4.055e+01\n",
      "Same R - Diff P&S vs. Same P - Diff R&S: t-test independent samples with Bonferroni correction, P_val:0.000e+00 t=6.049e+01\n"
     ]
    },
    {
     "data": {
      "image/png": "[encoded data removed]",
      "text/plain": [
       "<Figure size 800x600 with 1 Axes>"
      ]
     },
     "metadata": {},
     "output_type": "display_data"
    }
   ],
   "source": [
    "def plot_cross_dialogue_similarity(similarities_df: pd.DataFrame, subsample: bool) -> None:\n",
    "    \"\"\"\n",
    "    Plot bar distributions of similarity for cross-speakers and cross-dialogue pair types,\n",
    "    with t-test annotations and mean labels.\n",
    "    \"\"\"\n",
    "    cross_types = [\n",
    "        'Same R &P - diff S',\n",
    "        'Same R - Diff P&S',\n",
    "        'Same P - Diff R&S',\n",
    "        'Diff P&R&S'\n",
    "    ]\n",
    "    if subsample:\n",
    "    # subsample to the minimum number of pairs\n",
    "        smalles_size = min(\n",
    "            similarities_df[similarities_df['pair_type'] == t].shape[0] for t in cross_types\n",
    "        )\n",
    "        # select a random sample of the minimum size for each type\n",
    "        similarities_df = similarities_df.groupby('pair_type').apply(\n",
    "            lambda x: x.sample(n=smalles_size, random_state=42)\n",
    "        ).reset_index(drop=True)\n",
    "    \n",
    "    \n",
    "    # Define labels for the x-axis\n",
    "    labels = {\n",
    "        'Same R &P - diff S': 'same-ref\\nsame-dialogue',\n",
    "        'Same R - Diff P&S': 'same-ref\\ndiff-dialogue',\n",
    "        'Same P - Diff R&S': 'diff-referent\\nsame-dialogue',\n",
    "        'Diff P&R&S': 'diff-ref\\ndiff-dialogue'\n",
    "    }\n",
    "\n",
    "    df = similarities_df.copy()\n",
    "    df = df[df['pair_type'].isin(cross_types)]\n",
    "    df['pair_type'] = pd.Categorical(df['pair_type'], categories=cross_types)\n",
    "\n",
    "    sns.set_theme(style=\"whitegrid\")\n",
    "    fig, ax = plt.subplots(figsize=(8, 6))\n",
    "    palette = sns.color_palette('Set3', n_colors=len(cross_types))\n",
    "    sns.barplot(\n",
    "        x='pair_type', y='similarity', data=df,\n",
    "        order=cross_types, palette=palette, ax=ax,\n",
    "        ci=95,  # Show standard deviation as error bars,\n",
    "        capsize=0.1,  # Add caps to error bars\n",
    "        # errorbar='se',  # Use standard error for error bars\n",
    "    )\n",
    "\n",
    "    comparisons = [\n",
    "        ('Same R &P - diff S', 'Same R - Diff P&S'),\n",
    "        ('Same P - Diff R&S', 'Diff P&R&S'),\n",
    "        ('Same R - Diff P&S', 'Same P - Diff R&S')\n",
    "    ]\n",
    "    annotator = Annotator(\n",
    "        ax,\n",
    "        comparisons,\n",
    "        data=df,\n",
    "        x='pair_type',\n",
    "        y='similarity',\n",
    "        order=cross_types\n",
    "    )\n",
    "    annotator.configure(\n",
    "        test='t-test_ind',\n",
    "        text_format='star',\n",
    "        loc='outside',\n",
    "        comparisons_correction='Bonferroni',\n",
    "        hide_non_significant=True,\n",
    "    )\n",
    "    annotator.apply_and_annotate()\n",
    "\n",
    "    for i, key in enumerate(cross_types):\n",
    "        mean_val = df[df['pair_type'] == key]['similarity'].mean()\n",
    "        ax.text(\n",
    "            i, mean_val / 2, f'μ={mean_val:.2f}',\n",
    "            ha='center', va='bottom', fontsize=12, weight='bold', color='blue'\n",
    "        )\n",
    "\n",
    "    ax.set_xlabel('')\n",
    "    ax.set_ylabel('Cosine Similarity', fontweight='bold', fontsize=12)\n",
    "    ax.set_xticks(range(len(cross_types)))\n",
    "    ax.set_xticklabels([labels[key] for key in cross_types], fontweight='bold', fontsize=12)\n",
    "\n",
    "    plt.tight_layout()\n",
    "    plt.show()\n",
    "    \n",
    "plot_cross_dialogue_similarity(similarities_df, subsample=False)"
   ]
  },
  {
   "cell_type": "markdown",
   "id": "587493d9",
   "metadata": {},
   "source": [
    "## 7 <a name='7'></a>Conclusion  \n",
    "We reproduced the intrinsic evaluation workflow showing that cosine similarity of contrastively‑learned gesture embeddings, which rises with the number of shared form features. It tracks features related to the semantic content of the gestures, speaker style, and interaction content. \n",
    "\n",
    "More importantly, we compute **multimodal similarity by concatenating gesture and semantic embeddings**, which can be used to analyse the interaction between gesture and speech in dialogue.\n"
   ]
  }
 ],
 "metadata": {
  "kernelspec": {
   "display_name": "test2",
   "language": "python",
   "name": "python3"
  },
  "language_info": {
   "codemirror_mode": {
    "name": "ipython",
    "version": 3
   },
   "file_extension": ".py",
   "mimetype": "text/x-python",
   "name": "python",
   "nbconvert_exporter": "python",
   "pygments_lexer": "ipython3",
   "version": "3.10.18"
  }
 },
 "nbformat": 4,
 "nbformat_minor": 5
}
