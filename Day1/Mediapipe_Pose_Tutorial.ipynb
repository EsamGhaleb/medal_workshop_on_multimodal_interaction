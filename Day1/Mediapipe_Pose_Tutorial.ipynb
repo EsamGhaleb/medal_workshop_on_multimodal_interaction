{
 "cells": [
  {
   "cell_type": "markdown",
   "id": "0dafbe84",
   "metadata": {},
   "source": [
    "# 🏃‍♂️ MediaPipe Pose & Holistic — Hands‑on Notebook\n",
    "An interactive notebook for **MediaPipe** pipelines. \n",
    "\n",
    "1. Run on **your own video** or **web‑cam**.\n",
    "2. Compare **model types** and **model_complexity**.\n",
    "3. See impact of **tracking**."
   ]
  },
  {
   "cell_type": "markdown",
   "id": "83f6dbef",
   "metadata": {},
   "source": [
    "## 📑 Notebook overview\n",
    "1. **Environment setup** — install & import requirements\n",
    "2. **Configuration** — set video source and pipeline parameters\n",
    "3. **Pipeline functions** — create and run the MediaPipe graph\n",
    "4. **Exercises** — analyse tracking quality and landmark trajectories\n",
    "5. **Discussion & extras** — reflect on speed/accuracy trade‑offs"
   ]
  },
  {
   "cell_type": "markdown",
   "id": "4f9f357b",
   "metadata": {},
   "source": [
    "## ⚙️ Environment setup"
   ]
  },
  {
   "cell_type": "code",
   "execution_count": 1,
   "id": "5eb07cd9",
   "metadata": {},
   "outputs": [
    {
     "name": "stdout",
     "output_type": "stream",
     "text": [
      "MediaPipe version: 0.10.21\n"
     ]
    }
   ],
   "source": [
    "import os, sys, cv2, numpy as np\n",
    "from pathlib import Path\n",
    "from datetime import datetime\n",
    "import mediapipe as mp\n",
    "from tqdm import tqdm\n",
    "mp_pose, mp_holistic = mp.solutions.pose, mp.solutions.holistic\n",
    "mp_draw, mp_styles = mp.solutions.drawing_utils, mp.solutions.drawing_styles\n",
    "print('MediaPipe version:', mp.__version__)"
   ]
  },
  {
   "cell_type": "markdown",
   "id": "5185e20c",
   "metadata": {},
   "source": [
    "## 🔧 Key Parameters — MediaPipe Configuration\n",
    "\n",
    "Tune these settings to control your pipeline behavior:\n",
    "\n",
    "\n",
    "| Parameter | Typical values | Explanation |\n",
    "|-----------|----------------|-------------|\n",
    "| `VIDEO_SOURCE` | `0` *(webcam)* or `'path/to/video.mp4'` | Input stream |\n",
    "| `MODEL` | `'pose'` or `'holistic'` | Landmark set: body‑only vs body+hands+face |\n",
    "| `MODEL_COMPLEXITY` | `0`, `1`, `2` | Accuracy ↑ vs FPS ↓ |\n",
    "| `ENABLE_TRACKING` | `True` or `False` | Temporal smoothing (reduces jitter, adds lag) |\n",
    "| `SAVE_OVERLAY` | `True` or `False` | Write MP4 with drawn landmarks |\n",
    "| `OUTPUT_DIR` | folder path | All artefacts written here |\n",
    "\n",
    "Experiment with these to balance performance, accuracy, and output needs!\n"
   ]
  },
  {
   "cell_type": "code",
   "execution_count": 2,
   "id": "933f7fe6",
   "metadata": {},
   "outputs": [],
   "source": [
    "# --- Configuration ---\n",
    "VIDEO_SOURCE     = 0 #'input_videos/salma_hayek_short.mp4'   # 0 for webcam\n",
    "MODEL            = 'holistic'   # 'pose' or 'holistic'\n",
    "MODEL_COMPLEXITY = 1            # 0, 1, 2\n",
    "ENABLE_TRACKING  = True         # temporal smoothing\n",
    "SAVE_OVERLAY     = True\n",
    "\n",
    "OUTPUT_DIR = Path('Mediapipe_results')\n",
    "OUTPUT_DIR.mkdir(parents=True, exist_ok=True)"
   ]
  },
  {
   "cell_type": "markdown",
   "id": "3212741f",
   "metadata": {},
   "source": [
    "## 🚀 Create Pipeline Functions"
   ]
  },
  {
   "cell_type": "code",
   "execution_count": 3,
   "id": "add0e024",
   "metadata": {},
   "outputs": [],
   "source": [
    "def create_pipeline(model: str = 'holistic', model_complexity: int = 1,\n",
    "                    enable_tracking: bool = True):\n",
    "    \"\"\"Return an initialised MediaPipe solution instance.\n",
    "    Parameters\n",
    "    ----------\n",
    "    model : 'pose' | 'holistic'\n",
    "    model_complexity : 0 | 1 | 2\n",
    "    enable_tracking : smooth landmarks over time if ``True``\n",
    "    \"\"\"\n",
    "    if model not in {'pose', 'holistic'}:\n",
    "        raise ValueError(\"model must be 'pose' or 'holistic'\")\n",
    "\n",
    "    kwargs = dict(\n",
    "        model_complexity=model_complexity,\n",
    "        smooth_landmarks=enable_tracking,\n",
    "        min_detection_confidence=0.5,\n",
    "        min_tracking_confidence=0.5,\n",
    "        static_image_mode=False,\n",
    "    )\n",
    "\n",
    "    if model == 'pose':\n",
    "        return mp_pose.Pose(**kwargs)\n",
    "    else:\n",
    "        kwargs['refine_face_landmarks'] = True\n",
    "        return mp_holistic.Holistic(**kwargs)"
   ]
  },
  {
   "cell_type": "code",
   "execution_count": 4,
   "id": "a866fef9",
   "metadata": {},
   "outputs": [],
   "source": [
    "def run_inference(source, model='holistic', model_complexity=1, enable_tracking=True,\n",
    "                  save_overlay=False, out_dir=OUTPUT_DIR):\n",
    "    \"\"\"Run MediaPipe on a video or webcam and return keypoints array.\n",
    "    Returns\n",
    "    -------\n",
    "    kpts : np.ndarray  (n_frames, n_landmarks, 4)\n",
    "    overlay_path : str | None   path to saved video if ``save_overlay``\n",
    "    \"\"\"\n",
    "    cap = cv2.VideoCapture(source)\n",
    "    if not cap.isOpened():\n",
    "        raise RuntimeError(f'Cannot open {source}')\n",
    "\n",
    "    base = Path(str(source)).stem if isinstance(source, str) else 'webcam'\n",
    "    overlay_path = out_dir / f\"{base}_model_{model}_track_{enable_tracking}_comp_{model_complexity}.mp4\"\n",
    "\n",
    "    writer = None\n",
    "    if save_overlay:\n",
    "        fourcc = cv2.VideoWriter_fourcc(*'mp4v')\n",
    "        fps    = cap.get(cv2.CAP_PROP_FPS) or 25\n",
    "        w, h   = int(cap.get(cv2.CAP_PROP_FRAME_WIDTH)), int(cap.get(cv2.CAP_PROP_FRAME_HEIGHT))\n",
    "        writer = cv2.VideoWriter(str(overlay_path), fourcc, fps, (w, h))\n",
    "\n",
    "    pipe = create_pipeline(model, model_complexity, enable_tracking)\n",
    "    kpts = []\n",
    "\n",
    "    with tqdm(total=int(cap.get(cv2.CAP_PROP_FRAME_COUNT) or 0),\n",
    "              unit='frame', desc='Processing') as pbar:\n",
    "        while True:\n",
    "            ok, frame = cap.read()\n",
    "            if not ok:\n",
    "                break\n",
    "            res = pipe.process(cv2.cvtColor(frame, cv2.COLOR_BGR2RGB))\n",
    "\n",
    "            # Draw landmarks\n",
    "            if model == 'pose':\n",
    "                mp_draw.draw_landmarks(\n",
    "                    frame, res.pose_landmarks, mp_pose.POSE_CONNECTIONS,\n",
    "                    landmark_drawing_spec=mp_styles.get_default_pose_landmarks_style())\n",
    "            else:\n",
    "                mp_draw.draw_landmarks(frame, res.face_landmarks, mp_holistic.FACEMESH_CONTOURS,\n",
    "                                       connection_drawing_spec=mp_styles.get_default_face_mesh_contours_style())\n",
    "                mp_draw.draw_landmarks(frame, res.left_hand_landmarks, mp_holistic.HAND_CONNECTIONS)\n",
    "                mp_draw.draw_landmarks(frame, res.right_hand_landmarks, mp_holistic.HAND_CONNECTIONS)\n",
    "                mp_draw.draw_landmarks(frame, res.pose_landmarks, mp_holistic.POSE_CONNECTIONS,\n",
    "                                       landmark_drawing_spec=mp_styles.get_default_pose_landmarks_style())\n",
    "\n",
    "            # Collect keypoints\n",
    "            frame_k = []\n",
    "            if res.pose_landmarks:\n",
    "                frame_k.extend([[lm.x, lm.y, lm.z, lm.visibility] for lm in res.pose_landmarks.landmark])\n",
    "            if model == 'holistic':\n",
    "                for hand in (res.left_hand_landmarks, res.right_hand_landmarks):\n",
    "                    if hand:\n",
    "                        frame_k.extend([[lm.x, lm.y, lm.z, 1.0] for lm in hand.landmark])\n",
    "                    else:\n",
    "                        frame_k.extend([[0, 0, 0, 0]] * 21)\n",
    "            kpts.append(frame_k)\n",
    "\n",
    "            if writer:\n",
    "                writer.write(frame)\n",
    "            cv2.imshow('MediaPipe', frame)\n",
    "            if cv2.waitKey(1) & 0xFF == 27:  # ESC key\n",
    "                break\n",
    "            pbar.update(1)\n",
    "\n",
    "    cap.release(); cv2.destroyAllWindows()\n",
    "    if writer:\n",
    "        writer.release()\n",
    "\n",
    "    kpts = np.array(kpts, dtype=np.float32)\n",
    "    # use the parameters in the name of the output file\n",
    "    np.save(out_dir / f'{base}_model_{model}_track_{enable_tracking}_comp_{model_complexity}_kpts.npy', kpts)\n",
    "    return kpts, (str(overlay_path) if save_overlay else None)"
   ]
  },
  {
   "cell_type": "markdown",
   "id": "d2005ff2",
   "metadata": {},
   "source": [
    "## 📝 Exercise 1: Your video or webcam\n",
    "Set parameters below and run. Press **ESC** to stop."
   ]
  },
  {
   "cell_type": "code",
   "execution_count": 17,
   "id": "5c90d2d1",
   "metadata": {},
   "outputs": [
    {
     "name": "stderr",
     "output_type": "stream",
     "text": [
      "I0000 00:00:1750421719.511139 21580623 gl_context.cc:369] GL version: 2.1 (2.1 Metal - 88.1), renderer: Apple M3 Pro\n",
      "Processing:   0%|          | 0/1136 [00:00<?, ?frame/s]W0000 00:00:1750421719.581278 21603032 inference_feedback_manager.cc:114] Feedback manager requires a model with a single signature inference. Disabling support for feedback tensors.\n",
      "W0000 00:00:1750421719.610052 21603032 inference_feedback_manager.cc:114] Feedback manager requires a model with a single signature inference. Disabling support for feedback tensors.\n",
      "W0000 00:00:1750421719.612644 21603032 inference_feedback_manager.cc:114] Feedback manager requires a model with a single signature inference. Disabling support for feedback tensors.\n",
      "W0000 00:00:1750421719.612647 21603043 inference_feedback_manager.cc:114] Feedback manager requires a model with a single signature inference. Disabling support for feedback tensors.\n",
      "W0000 00:00:1750421719.612704 21603034 inference_feedback_manager.cc:114] Feedback manager requires a model with a single signature inference. Disabling support for feedback tensors.\n",
      "W0000 00:00:1750421719.617051 21603043 inference_feedback_manager.cc:114] Feedback manager requires a model with a single signature inference. Disabling support for feedback tensors.\n",
      "W0000 00:00:1750421719.619093 21603039 inference_feedback_manager.cc:114] Feedback manager requires a model with a single signature inference. Disabling support for feedback tensors.\n",
      "W0000 00:00:1750421719.619427 21603033 inference_feedback_manager.cc:114] Feedback manager requires a model with a single signature inference. Disabling support for feedback tensors.\n",
      "Processing:  20%|██        | 229/1136 [00:20<01:22, 11.01frame/s]"
     ]
    },
    {
     "name": "stdout",
     "output_type": "stream",
     "text": [
      "Keypoints shape : (230, 75, 4)\n",
      "Overlay saved to Mediapipe_results/salma_hayek_short_model_holistic_track_True_comp_2.mp4\n"
     ]
    },
    {
     "name": "stderr",
     "output_type": "stream",
     "text": [
      "\n"
     ]
    }
   ],
   "source": [
    "VIDEO_SOURCE=\"input_videos/salma_hayek_short.mp4\"          # 0 for webcam or 'my_video.mp4' (specify the path to your video file)\n",
    "OUTPUT_BASE_NAME = 'webcam'  if VIDEO_SOURCE == 0 else Path(VIDEO_SOURCE).stem\n",
    "MODEL='holistic'        # 'pose' or 'holistic'\n",
    "MODEL_COMPLEXITY=2      # 0,1,2\n",
    "ENABLE_TRACKING=True    # smoothing\n",
    "SAVE_OVERLAY=True\n",
    "\n",
    "kpts, overlay = run_inference(VIDEO_SOURCE, MODEL, MODEL_COMPLEXITY,\n",
    "                              ENABLE_TRACKING, SAVE_OVERLAY)\n",
    "print('Keypoints shape :', kpts.shape)\n",
    "if overlay: print('Overlay saved to', overlay)"
   ]
  },
  {
   "cell_type": "markdown",
   "id": "c247df02",
   "metadata": {},
   "source": [
    "## 📝 Exercise 2 — Tracking *off* vs *on*\n",
    "\n",
    "1. Repeat Exercise 1 with `ENABLE_TRACKING = False`. Then compare jitter and lag:\n",
    "    ```python\n",
    "    ENABLE_TRACKING=False\n",
    "    ```\n",
    "2. Capture a short video segment (5–10 s) of moderate motion."
   ]
  },
  {
   "cell_type": "markdown",
   "id": "d0fc18a9",
   "metadata": {},
   "source": [
    "## 📝 Exercise 2 — tracking *off* vs *on*\n",
    "Repeat Exercise 1 with `ENABLE_TRACKING = False`. Then compare jitter and lag:\n",
    "1. Load both keypoint `.npy` files (code below).\n",
    "2. Plot the x‑trajectory of the **nose** landmark for each run.\n",
    "3. Compute frame‑to‑frame Δx mean ± SD.\n",
    "4. Discuss how smoothing affects variance and latency."
   ]
  },
  {
   "cell_type": "code",
   "execution_count": 18,
   "id": "9be24097",
   "metadata": {},
   "outputs": [
    {
     "data": {
      "image/png": "[encoded data removed]",
      "text/plain": [
       "<Figure size 640x480 with 1 Axes>"
      ]
     },
     "metadata": {},
     "output_type": "display_data"
    }
   ],
   "source": [
    "# --- Trajectory comparison ---\n",
    "import matplotlib.pyplot as plt\n",
    "nose = mp_pose.PoseLandmark.LEFT_THUMB if MODEL == 'pose' else mp_holistic.PoseLandmark.LEFT_THUMB\n",
    "kpts_track = np.load('Mediapipe_results/{}_model_{}_track_True_comp_{}_kpts.npy'.format(\n",
    "    OUTPUT_BASE_NAME, MODEL, MODEL_COMPLEXITY))\n",
    "kpts_no   = np.load('Mediapipe_results/{}_model_{}_track_False_comp_{}_kpts.npy'.format(\n",
    "    OUTPUT_BASE_NAME, MODEL, MODEL_COMPLEXITY))\n",
    "# select the minimum number of frames\n",
    "kpts_track = kpts_track[:min(kpts_track.shape[0], kpts_no.shape[0])]\n",
    "kpts_no   = kpts_no[:min(kpts_track.shape[0], kpts_no.shape[0])]\n",
    "t = np.arange(kpts_track.shape[0])\n",
    "plt.plot(t, kpts_track[:, nose, 0], label='tracking')\n",
    "plt.plot(t, kpts_no[:, nose, 0], label='no tracking')\n",
    "plt.legend(); plt.xlabel('Frame'); plt.ylabel('x'); plt.show()"
   ]
  },
  {
   "cell_type": "markdown",
   "id": "83432eb2",
   "metadata": {},
   "source": [
    "\n",
    "## 📝 Exercise 3 (OPTIONAL) — Landmark Indices & Trajectories\n",
    "Use `mp_pose.PoseLandmark` and `mp_holistic.HandLandmark` to list indices, then plot trajectories of selected landmarks (e.g., **NOSE**, **LEFT_WRIST**, **RIGHT_WRIST**). \n",
    "\n",
    "**Solution** is provided below.\n"
   ]
  },
  {
   "cell_type": "markdown",
   "id": "80af8945",
   "metadata": {},
   "source": [
    "1. List all pose and hand landmark indices:  \n",
    "<details>\n",
    "<summary>▶️ Show landmark-indices code</summary>\n",
    "\n",
    "```python\n",
    "from pprint import pprint\n",
    "pprint({i: lm.name for i, lm in enumerate(mp_pose.PoseLandmark)})\n",
    "pprint({i: lm.name for i, lm in enumerate(mp_holistic.HandLandmark)})\n",
    "```\n"
   ]
  },
  {
   "cell_type": "markdown",
   "id": "47e995d1",
   "metadata": {},
   "source": [
    "2. Choose three landmarks (e.g., NOSE, LEFT_WRIST, RIGHT_WRIST) and Extract their 2D trajectories from `kpts` and plot over time:  \n",
    "\n",
    "<details>\n",
    "<summary>▶️ Choose and draw landmark-trajectories code (copy to code cell)</summary>\n",
    "\n",
    "```python\n",
    "import matplotlib.pyplot as plt\n",
    "\n",
    "# example indices\n",
    "nose_idx = mp_pose.PoseLandmark.NOSE.value\n",
    "lw_idx   = mp_pose.PoseLandmark.LEFT_WRIST.value\n",
    "rw_idx   = mp_pose.PoseLandmark.RIGHT_WRIST.value\n",
    "\n",
    "t = np.arange(kpts.shape[0])\n",
    "for idx, label in [(nose_idx,'Nose'), (lw_idx,'L-Wrist'), (rw_idx,'R-Wrist')]:\n",
    "        x, y = kpts[:, idx, :2].T\n",
    "        plt.plot(t, x, label=f'{label} x')\n",
    "        plt.plot(t, y, '--', label=f'{label} y')\n",
    "plt.xlabel('Frame'); plt.ylabel('Normalized coord'\n",
    "plt.legend(); plt.show()\n",
    "```"
   ]
  },
  {
   "cell_type": "markdown",
   "id": "79f526ad",
   "metadata": {},
   "source": [
    "## 🧐 Discussion\n",
    "\n",
    "- **Model Complexity Trade-off**  \n",
    "   - Complexity 0 vs 1 vs 2: how does inference **FPS** change?  \n",
    "      • Measure end-to-end runtime on the provided clip by checking how much time it takes to process the entire video. \n",
    "   - Does higher complexity give **more accurate** landmarks?  \n",
    "      • Visually inspect overlay at key joints  \n",
    "\n",
    "- **Holistic vs Pose-Only**  \n",
    "   - **Landmark count**: Pose-only returns ~33 landmarks; Holistic adds ~468 face + 42 hands.  \n",
    "\n",
    "- **Tracking (Smoothing) On vs Off**  \n",
    "   - Jitter vs Lag:  \n",
    "      • With `ENABLE_TRACKING=True`, landmarks are smoother but react more slowly to sudden motion. This can be good if you want to track one person.   \n",
    "      • With `ENABLE_TRACKING=False`, landmarks jitter more. Does the model complexity affect this?\n",
    "   - Do you see a difference in the **stability** of landmarks?  \n",
    "   - **Check different outputs** in `Mediapipe_results/` folder.  \n",
    "      \n",
    "\n",
    "- **Keypoints Array Structure**  \n",
    "   - Shape: `(n_frames, n_landmarks, 4)` → `(frame, [x, y, z, visibility])`.  \n",
    "   - Visibility: **NOTE**: MediaPipe does not provide a confidence score for each landmark, but visibility indicates if the landmark is detected (1.0) or not (0.0). **This is only available for pose landmarks, not hands or face landmarks**."
   ]
  },
  {
   "cell_type": "markdown",
   "id": "92c3a63c",
   "metadata": {},
   "source": [
    "## 📝 Gesture Segmentation Subset\n",
    "\n",
    "For gesture segmentation, we only need a handful of pose- and all hand-landmarks from the Holistic model. The code below already extracts these and saves them in a `.npy` file.\n",
    "\n",
    "Please run the code and check the overlay video to see how the landmarks are extracted. We already selected the best parameters for this task. "
   ]
  },
  {
   "cell_type": "code",
   "execution_count": null,
   "id": "1b94b631",
   "metadata": {},
   "outputs": [],
   "source": [
    "from utils.extract_mp_pose import extract_keypoints\n",
    "# Path to the video you want to analyse\n",
    "video_path = \"input_videos/salma_hayek_short.mp4\"  # or specify a path to your video file\n",
    "# video_path = 0 # ← use this to use your webcam as input\n",
    "\n",
    "# Extract keypoints. The function returns a dictionary with useful metadata.\n",
    "pose_data = extract_keypoints(\n",
    "    vidf=video_path,\n",
    "    save_video=True,\n",
    "    model_complexity=MODEL_COMPLEXITY\n",
    ")"
   ]
  }
 ],
 "metadata": {
  "kernelspec": {
   "display_name": "test2",
   "language": "python",
   "name": "python3"
  },
  "language_info": {
   "codemirror_mode": {
    "name": "ipython",
    "version": 3
   },
   "file_extension": ".py",
   "mimetype": "text/x-python",
   "name": "python",
   "nbconvert_exporter": "python",
   "pygments_lexer": "ipython3",
   "version": "3.10.18"
  }
 },
 "nbformat": 4,
 "nbformat_minor": 5
}
